{
 "cells": [
  {
   "cell_type": "code",
   "execution_count": 3,
   "metadata": {
    "ExecuteTime": {
     "end_time": "2019-03-08T05:14:54.298543Z",
     "start_time": "2019-03-08T05:14:54.054120Z"
    }
   },
   "outputs": [],
   "source": [
    "import numpy as np\n",
    "import matplotlib.pyplot as plt\n",
    "%matplotlib inline"
   ]
  },
  {
   "cell_type": "markdown",
   "metadata": {
    "ExecuteTime": {
     "end_time": "2019-03-08T05:14:54.742804Z",
     "start_time": "2019-03-08T05:14:54.488047Z"
    }
   },
   "source": [
    "## define the maze"
   ]
  },
  {
   "cell_type": "code",
   "execution_count": 4,
   "metadata": {
    "ExecuteTime": {
     "end_time": "2019-03-08T05:14:54.742804Z",
     "start_time": "2019-03-08T05:14:54.488047Z"
    }
   },
   "outputs": [
    {
     "name": "stderr",
     "output_type": "stream",
     "text": [
      "/Users/shinnosuke.yata/.pyenv/versions/3.6.5/lib/python3.6/site-packages/matplotlib/cbook/__init__.py:424: MatplotlibDeprecationWarning: \nPassing one of 'on', 'true', 'off', 'false' as a boolean is deprecated; use an actual boolean (True/False) instead.\n  warn_deprecated(\"2.2\", \"Passing one of 'on', 'true', 'off', 'false' as a \"\n"
     ]
    },
    {
     "data": {
      "image/png": "[encoded data removed]",
      "text/plain": [
       "<Figure size 432x432 with 1 Axes>"
      ]
     },
     "metadata": {},
     "output_type": "display_data"
    }
   ],
   "source": [
    "fig = plt.figure(figsize=(6, 6))\n",
    "ax = plt.gca()  # gca = get current axes\n",
    "\n",
    "# draw red wall\n",
    "plt.plot([3, 4], [2, 2], color='red', linewidth=3)\n",
    "plt.plot([2, 2], [1, 2], color='red', linewidth=3)\n",
    "plt.plot([1, 1], [2, 4], color='red', linewidth=3)\n",
    "plt.plot([1, 2], [1, 1], color='red', linewidth=3)\n",
    "plt.plot([2, 3], [3, 3], color='red', linewidth=3)\n",
    "plt.plot([3, 3], [2, 3], color='red', linewidth=3)\n",
    "plt.plot([3, 3], [0, 1], color='red', linewidth=3)\n",
    "\n",
    "# -- describe the state number\n",
    "s_num = 0\n",
    "for j in range(4):\n",
    "    for i in range(4):\n",
    "        plt.text(i+0.5, j+0.5, 's{}'.format(s_num), size=20, ha='center')\n",
    "        s_num += 1\n",
    "        \n",
    "# -- setup the START and GOAL\n",
    "plt.text(0.5, 0.3, 'START', ha='center', fontsize=14)\n",
    "plt.text(3.5, 3.3, 'GOAL', ha='center', fontsize=14)\n",
    "\n",
    "# -- reformat size\n",
    "ax.set_xlim(0, 4)\n",
    "ax.set_ylim(0, 4)\n",
    "plt.tick_params(axis='both', which='both', bottom='off', top='off',\n",
    "                labelbottom='off', right='off', left='off', labelleft='off')\n",
    "\n",
    "# -- render the green circle in current state (initial state is START)\n",
    "line, = ax.plot([0.5], [0.5], marker=\"o\", color='g', markersize=80)"
   ]
  },
  {
   "cell_type": "markdown",
   "metadata": {
    "ExecuteTime": {
     "end_time": "2019-03-08T05:14:55.493831Z",
     "start_time": "2019-03-08T05:14:55.481224Z"
    }
   },
   "source": [
    "## define theta "
   ]
  },
  {
   "cell_type": "code",
   "execution_count": 5,
   "metadata": {
    "ExecuteTime": {
     "end_time": "2019-03-08T05:14:55.493831Z",
     "start_time": "2019-03-08T05:14:55.481224Z"
    }
   },
   "outputs": [],
   "source": [
    "#                 [\"UP\"  , \"RIGHT\", \"DOWN\", \"LEFT\"]\n",
    "theta = np.array([[1     , 1      , np.nan, np.nan], #s0\n",
    "                  [np.nan, 1      , np.nan, 1     ], #s1\n",
    "                  [1     , np.nan , np.nan, 1     ], #s2\n",
    "                  [1     , np.nan , np.nan, np.nan], #s3\n",
    "                  [1     , 1      , 1     , np.nan], #s4\n",
    "                  [1     , np.nan , np.nan, 1     ], #s5\n",
    "                  [1     , 1      , np.nan, 1     ], #s6\n",
    "                  [np.nan, np.nan , 1     , 1     ], #s7\n",
    "                  [1     , np.nan , 1     , np.nan], #s8\n",
    "                  [1     , 1      , 1     , np.nan], #s9\n",
    "                  [np.nan, np.nan , 1     , 1     ], #s10\n",
    "                  [1     , np.nan , np.nan, np.nan], #s11\n",
    "                  [np.nan, np.nan , 1     , np.nan], #s12\n",
    "                  [np.nan, 1      , 1     , np.nan], #s13\n",
    "                  [np.nan, 1      , np.nan, 1     ], #s14\n",
    "])"
   ]
  },
  {
   "cell_type": "markdown",
   "metadata": {
    "ExecuteTime": {
     "end_time": "2019-03-08T05:14:55.874140Z",
     "start_time": "2019-03-08T05:14:55.865098Z"
    }
   },
   "source": [
    "## convert theta into Policy Pi"
   ]
  },
  {
   "cell_type": "code",
   "execution_count": 6,
   "metadata": {
    "ExecuteTime": {
     "end_time": "2019-03-08T05:14:55.874140Z",
     "start_time": "2019-03-08T05:14:55.865098Z"
    }
   },
   "outputs": [
    {
     "name": "stdout",
     "output_type": "stream",
     "text": [
      "[[0.5        0.5        0.         0.        ]\n [0.         0.5        0.         0.5       ]\n [0.5        0.         0.         0.5       ]\n [1.         0.         0.         0.        ]\n [0.33333333 0.33333333 0.33333333 0.        ]\n [0.5        0.         0.         0.5       ]\n [0.33333333 0.33333333 0.         0.33333333]\n [0.         0.         0.5        0.5       ]\n [0.5        0.         0.5        0.        ]\n [0.33333333 0.33333333 0.33333333 0.        ]\n [0.         0.         0.5        0.5       ]\n [1.         0.         0.         0.        ]\n [0.         0.         1.         0.        ]\n [0.         0.5        0.5        0.        ]\n [0.         0.5        0.         0.5       ]]\n"
     ]
    }
   ],
   "source": [
    "def convert_theta_into_pi(theta):\n",
    "    \n",
    "    i, j = theta.shape\n",
    "    pi = np.zeros((i, j))\n",
    "    for row in range(i):\n",
    "        # get probability of action\n",
    "        pi[row] = theta[row] / np.nansum(theta[row])\n",
    "        \n",
    "    pi = np.nan_to_num(pi)\n",
    "    return pi\n",
    "\n",
    "pi_0 = convert_theta_into_pi(theta)\n",
    "print(pi_0)"
   ]
  },
  {
   "cell_type": "markdown",
   "metadata": {
    "ExecuteTime": {
     "end_time": "2019-03-08T05:14:56.158690Z",
     "start_time": "2019-03-08T05:14:56.150618Z"
    },
    "scrolled": true
   },
   "source": [
    "## initialize Q function"
   ]
  },
  {
   "cell_type": "code",
   "execution_count": 7,
   "metadata": {
    "ExecuteTime": {
     "end_time": "2019-03-08T05:14:56.158690Z",
     "start_time": "2019-03-08T05:14:56.150618Z"
    },
    "scrolled": true
   },
   "outputs": [
    {
     "name": "stdout",
     "output_type": "stream",
     "text": [
      "[[0.0714953  0.08092915        nan        nan]\n [       nan 0.06720447        nan 0.09335311]\n [0.05482525        nan        nan 0.05268897]\n [0.08914985        nan        nan        nan]\n [0.02634581 0.03945406 0.07395829        nan]\n [0.04290086        nan        nan 0.08850969]\n [0.04377704 0.02036939        nan 0.03738754]\n [       nan        nan 0.05033141 0.03143685]\n [0.04055656        nan 0.0477392         nan]\n [0.07552037 0.02793587 0.04334175        nan]\n [       nan        nan 0.03386531 0.06764706]\n [0.02778356        nan        nan        nan]\n [       nan        nan 0.09179986        nan]\n [       nan 0.02204831 0.04211259        nan]\n [       nan 0.05987635        nan 0.02294616]]\n"
     ]
    }
   ],
   "source": [
    "i, j = pi_0.shape\n",
    "Q = np.random.rand(i, j) * theta * 0.1\n",
    "# In order to avoid miss action in early exeperiments,\n",
    "# multiplying 0.1 \n",
    "\n",
    "print(Q)"
   ]
  },
  {
   "cell_type": "code",
   "execution_count": 8,
   "metadata": {
    "ExecuteTime": {
     "end_time": "2019-03-08T05:14:56.832495Z",
     "start_time": "2019-03-08T05:14:56.824541Z"
    }
   },
   "outputs": [],
   "source": [
    "def get_next_action(s, Q, pi, epsilon) -> str:\n",
    "    # return 'UP', 'DOWN', 'RIGHT', 'LEFT'\n",
    "    \n",
    "    # epsilon-greedy\n",
    "    if np.random.rand() < epsilon:\n",
    "        next_action = np.random.choice(list(directions), p=pi[s, :])\n",
    "    else:\n",
    "        next_action = list(directions)[np.nanargmax(Q[s, :])] \n",
    "        \n",
    "    return next_action\n",
    "\n",
    "def get_s_next(s, next_a) -> int:\n",
    "    # return state num\n",
    "    \n",
    "    for idx, act in enumerate(directions):\n",
    "        if act == next_a:\n",
    "            return s + directions[act]\n",
    "        "
   ]
  },
  {
   "cell_type": "code",
   "execution_count": 10,
   "metadata": {
    "ExecuteTime": {
     "end_time": "2019-03-08T05:14:57.232848Z",
     "start_time": "2019-03-08T05:14:57.226439Z"
    }
   },
   "outputs": [],
   "source": [
    "# - test\n",
    "# s = 9\n",
    "# next_a = get_next_action(s, Q, pi_0, 0.3)\n",
    "# print(\"next_action is {}\".format(next_a))\n",
    "# next_s = get_s_next(s, next_a)\n",
    "# print(\"next state is {}\".format(next_s))"
   ]
  },
  {
   "cell_type": "markdown",
   "metadata": {
    "ExecuteTime": {
     "end_time": "2019-03-08T05:14:57.808283Z",
     "start_time": "2019-03-08T05:14:57.800307Z"
    }
   },
   "source": [
    "## define Q learning"
   ]
  },
  {
   "cell_type": "code",
   "execution_count": 11,
   "metadata": {
    "ExecuteTime": {
     "end_time": "2019-03-08T05:14:57.808283Z",
     "start_time": "2019-03-08T05:14:57.800307Z"
    }
   },
   "outputs": [],
   "source": [
    "def update_q_table(Q, s, a, r, s_next, eta, gamma):\n",
    "    \n",
    "    a_col = action2col[a]\n",
    "    if s_next == 15:\n",
    "        Q[s, a_col] = Q[s, a_col] + eta * (r - Q[s, a_col])\n",
    "        return Q.copy()\n",
    "    else:\n",
    "        Q[s, a_col] = Q[s, a_col] + eta * (r + gamma * np.nanmax(Q[s_next, :]) - Q[s, a_col])\n",
    "        return Q.copy()"
   ]
  },
  {
   "cell_type": "markdown",
   "metadata": {
    "ExecuteTime": {
     "end_time": "2019-03-08T05:14:58.913373Z",
     "start_time": "2019-03-08T05:14:58.904912Z"
    }
   },
   "source": [
    "## define Sarsa"
   ]
  },
  {
   "cell_type": "code",
   "execution_count": 12,
   "metadata": {
    "ExecuteTime": {
     "end_time": "2019-03-08T05:14:58.913373Z",
     "start_time": "2019-03-08T05:14:58.904912Z"
    }
   },
   "outputs": [],
   "source": [
    "def Sarsa(Q, s, a, r, s_next, a_next, eta, gamma):\n",
    "\n",
    "    a_col = action2col[a]\n",
    "    if s_next == 15:  # goal\n",
    "        Q[s, a_col] = Q[s, a_col] + eta * (r - Q[s, a_col])\n",
    "\n",
    "    else:\n",
    "        Q[s, a_col] = Q[s, a_col] + eta * (r + gamma * Q[s_next, a_next] - Q[s, a_col])\n",
    "\n",
    "    return Q.copy()"
   ]
  },
  {
   "cell_type": "code",
   "execution_count": 13,
   "metadata": {
    "ExecuteTime": {
     "end_time": "2019-03-08T05:16:16.504545Z",
     "start_time": "2019-03-08T05:16:16.496909Z"
    },
    "scrolled": true
   },
   "outputs": [],
   "source": [
    "def play_maze(Q, pi, epsilon, eta, gamma, update_method=\"q_learning\"): # TODO: insert Sarsa\n",
    "    # return state_action_history, updated Q function\n",
    "    s = 0\n",
    "    s_a_history = [[0, np.nan]]\n",
    "    # substitute action later\n",
    "    \n",
    "    trial_num  = 0\n",
    "    a_next = get_next_action(s, Q, pi, epsilon)\n",
    "    # はじめなのでaをa_nextとも置く。\n",
    "    \n",
    "    while True:\n",
    "        # print(\"current state: {}, next action : {}\".format(s, action))\n",
    "        action = a_next \n",
    "        \n",
    "        trial_num += 1\n",
    "        \n",
    "        s_a_history[-1][1] = action\n",
    "        \n",
    "        s_next = get_s_next(s=s, next_a=action)\n",
    "       \n",
    "        s_a_history.append([s_next, np.nan])\n",
    "        \n",
    "        if s_next == 15:\n",
    "            r = 1\n",
    "            a_next = None\n",
    "        else:\n",
    "            r = 0\n",
    "            a_next = get_next_action(s_next, Q, pi, epsilon)\n",
    "        \n",
    "        if update_method == \"q_learning\":\n",
    "            Q = update_q_table(Q, s, action, r, s_next, eta, gamma)\n",
    "        if update_method == \"sarsa\":\n",
    "            Q = update_q_table(Q, s, action, r, s_next, a_next, eta, gamma)\n",
    "        \n",
    "        if s_next == 15:\n",
    "            break\n",
    "        else:\n",
    "            s = s_next\n",
    "        \n",
    "    return s_a_history, Q\n"
   ]
  },
  {
   "cell_type": "code",
   "execution_count": 14,
   "metadata": {
    "ExecuteTime": {
     "end_time": "2019-03-08T05:16:25.870347Z",
     "start_time": "2019-03-08T05:16:25.767698Z"
    }
   },
   "outputs": [
    {
     "name": "stdout",
     "output_type": "stream",
     "text": [
      "[[0.07107708 0.07620651 0.09115037 0.09127477 0.09567749 0.08763554\n  0.06003362 0.02882499 0.09496063 0.08619738 0.04552352 0.01018093\n  0.06903207 0.08603257 0.04642954]]\n========== Episode: 1 ==========\nstep size in this trial is 74.\n========== Episode: 2 ==========\nstep size in this trial is 38.\n========== Episode: 3 ==========\nstep size in this trial is 38.\n========== Episode: 4 ==========\nstep size in this trial is 100.\n========== Episode: 5 ==========\nstep size in this trial is 8.\n========== Episode: 6 ==========\nstep size in this trial is 8.\n========== Episode: 7 ==========\nstep size in this trial is 8.\n========== Episode: 8 ==========\nstep size in this trial is 8.\n========== Episode: 9 ==========\nstep size in this trial is 8.\n========== Episode: 10 ==========\nstep size in this trial is 8.\n========== Episode: 11 ==========\nstep size in this trial is 8.\n========== Episode: 12 ==========\nstep size in this trial is 8.\n========== Episode: 13 ==========\nstep size in this trial is 8.\n========== Episode: 14 ==========\nstep size in this trial is 8.\n========== Episode: 15 ==========\nstep size in this trial is 8.\n========== Episode: 16 ==========\nstep size in this trial is 8.\n========== Episode: 17 ==========\nstep size in this trial is 8.\n========== Episode: 18 ==========\nstep size in this trial is 8.\n========== Episode: 19 ==========\nstep size in this trial is 8.\n========== Episode: 20 ==========\nstep size in this trial is 8.\n========== Episode: 21 ==========\nstep size in this trial is 8.\n========== Episode: 22 ==========\nstep size in this trial is 8.\n========== Episode: 23 ==========\nstep size in this trial is 8.\n========== Episode: 24 ==========\nstep size in this trial is 8.\n========== Episode: 25 ==========\nstep size in this trial is 8.\n========== Episode: 26 ==========\nstep size in this trial is 8.\n========== Episode: 27 ==========\nstep size in this trial is 8.\n========== Episode: 28 ==========\nstep size in this trial is 8.\n========== Episode: 29 ==========\nstep size in this trial is 8.\n========== Episode: 30 ==========\nstep size in this trial is 8.\n========== Episode: 31 ==========\nstep size in this trial is 8.\n========== Episode: 32 ==========\nstep size in this trial is 8.\n========== Episode: 33 ==========\nstep size in this trial is 8.\n========== Episode: 34 ==========\nstep size in this trial is 8.\n========== Episode: 35 ==========\nstep size in this trial is 8.\n========== Episode: 36 ==========\nstep size in this trial is 8.\n========== Episode: 37 ==========\nstep size in this trial is 8.\n========== Episode: 38 ==========\nstep size in this trial is 8.\n========== Episode: 39 ==========\nstep size in this trial is 8.\n========== Episode: 40 ==========\nstep size in this trial is 8.\n========== Episode: 41 ==========\nstep size in this trial is 8.\n========== Episode: 42 ==========\nstep size in this trial is 8.\n========== Episode: 43 ==========\nstep size in this trial is 8.\n========== Episode: 44 ==========\nstep size in this trial is 8.\n========== Episode: 45 ==========\nstep size in this trial is 8.\n========== Episode: 46 ==========\nstep size in this trial is 8.\n========== Episode: 47 ==========\nstep size in this trial is 8.\n========== Episode: 48 ==========\nstep size in this trial is 8.\n========== Episode: 49 ==========\nstep size in this trial is 8.\n========== Episode: 50 ==========\nstep size in this trial is 8.\n========== Episode: 51 ==========\nstep size in this trial is 8.\n========== Episode: 52 ==========\nstep size in this trial is 8.\n========== Episode: 53 ==========\nstep size in this trial is 8.\n========== Episode: 54 ==========\nstep size in this trial is 8.\n========== Episode: 55 ==========\nstep size in this trial is 8.\n========== Episode: 56 ==========\nstep size in this trial is 8.\n========== Episode: 57 ==========\nstep size in this trial is 8.\n========== Episode: 58 ==========\nstep size in this trial is 8.\n========== Episode: 59 ==========\nstep size in this trial is 8.\n========== Episode: 60 ==========\nstep size in this trial is 8.\n========== Episode: 61 ==========\nstep size in this trial is 8.\n========== Episode: 62 ==========\nstep size in this trial is 8.\n========== Episode: 63 ==========\nstep size in this trial is 8.\n========== Episode: 64 ==========\nstep size in this trial is 8.\n========== Episode: 65 ==========\nstep size in this trial is 8.\n========== Episode: 66 ==========\nstep size in this trial is 8.\n========== Episode: 67 ==========\nstep size in this trial is 8.\n========== Episode: 68 ==========\nstep size in this trial is 8.\n========== Episode: 69 ==========\nstep size in this trial is 8.\n========== Episode: 70 ==========\nstep size in this trial is 8.\n========== Episode: 71 ==========\nstep size in this trial is 8.\n========== Episode: 72 ==========\nstep size in this trial is 8.\n========== Episode: 73 ==========\nstep size in this trial is 8.\n========== Episode: 74 ==========\nstep size in this trial is 8.\n========== Episode: 75 ==========\nstep size in this trial is 8.\n========== Episode: 76 ==========\nstep size in this trial is 8.\n========== Episode: 77 ==========\nstep size in this trial is 8.\n========== Episode: 78 ==========\nstep size in this trial is 8.\n========== Episode: 79 ==========\nstep size in this trial is 8.\n========== Episode: 80 ==========\nstep size in this trial is 8.\n========== Episode: 81 ==========\nstep size in this trial is 8.\n========== Episode: 82 ==========\nstep size in this trial is 8.\n========== Episode: 83 ==========\nstep size in this trial is 8.\n========== Episode: 84 ==========\nstep size in this trial is 8.\n========== Episode: 85 ==========\nstep size in this trial is 8.\n========== Episode: 86 ==========\nstep size in this trial is 8.\n========== Episode: 87 ==========\nstep size in this trial is 8.\n========== Episode: 88 ==========\nstep size in this trial is 8.\n========== Episode: 89 ==========\nstep size in this trial is 8.\n========== Episode: 90 ==========\nstep size in this trial is 8.\n========== Episode: 91 ==========\nstep size in this trial is 8.\n========== Episode: 92 ==========\nstep size in this trial is 8.\n========== Episode: 93 ==========\nstep size in this trial is 8.\n========== Episode: 94 ==========\nstep size in this trial is 8.\n========== Episode: 95 ==========\nstep size in this trial is 8.\n========== Episode: 96 ==========\nstep size in this trial is 8.\n========== Episode: 97 ==========\nstep size in this trial is 8.\n========== Episode: 98 ==========\nstep size in this trial is 8.\n========== Episode: 99 ==========\nstep size in this trial is 8.\n"
     ]
    }
   ],
   "source": [
    "# - define the const\n",
    "\n",
    "eta = 0.1   # learning rate\n",
    "GAMMA = 0.9 # discount rate\n",
    "epsilon = 0.5\n",
    "continue_flg = True\n",
    "episode = 1\n",
    "directions = {'UP'   :  4,\n",
    "              'RIGHT':  1,\n",
    "              'DOWN' : -4,\n",
    "              'LEFT' : -1\n",
    "             }\n",
    "\n",
    "action2col = { act: col for col,act in enumerate(directions) }\n",
    "i, j = pi_0.shape\n",
    "Q = np.random.rand(i, j) * theta * 0.1\n",
    "initial_Q = Q.copy()\n",
    "V = np.nanmax(Q, axis=1).reshape(1, -1)\n",
    "print(V)\n",
    "\n",
    "while continue_flg:\n",
    "    \n",
    "    print(\"========== Episode: {} ==========\".format(episode))\n",
    "    epsilon /= 2\n",
    "    \n",
    "    s_a_history, new_Q = play_maze(Q, pi_0, epsilon, eta, GAMMA)\n",
    "    new_v = np.nanmax(new_Q, axis=1).reshape(1, -1)\n",
    "    V = np.append(V, new_v, axis=0)\n",
    "    Q = new_Q.copy()\n",
    "    print(\"step size in this trial is {}.\".format(len(s_a_history)-1))\n",
    "    \n",
    "    episode += 1\n",
    "    if episode >= 100:\n",
    "        continue_flg = False"
   ]
  },
  {
   "cell_type": "markdown",
   "metadata": {},
   "source": [
    "# TODO : investigate the differences between q-learning and Sarsa"
   ]
  },
  {
   "cell_type": "code",
   "execution_count": null,
   "metadata": {},
   "outputs": [],
   "source": []
  }
 ],
 "metadata": {
  "kernelspec": {
   "display_name": "Python 3",
   "language": "python",
   "name": "python3"
  },
  "language_info": {
   "codemirror_mode": {
    "name": "ipython",
    "version": 3
   },
   "file_extension": ".py",
   "mimetype": "text/x-python",
   "name": "python",
   "nbconvert_exporter": "python",
   "pygments_lexer": "ipython3",
   "version": "3.6.5"
  },
  "varInspector": {
   "cols": {
    "lenName": 16.0,
    "lenType": 16.0,
    "lenVar": 40.0
   },
   "kernels_config": {
    "python": {
     "delete_cmd_postfix": "",
     "delete_cmd_prefix": "del ",
     "library": "var_list.py",
     "varRefreshCmd": "print(var_dic_list())"
    },
    "r": {
     "delete_cmd_postfix": ") ",
     "delete_cmd_prefix": "rm(",
     "library": "var_list.r",
     "varRefreshCmd": "cat(var_dic_list()) "
    }
   },
   "types_to_exclude": [
    "module",
    "function",
    "builtin_function_or_method",
    "instance",
    "_Feature"
   ],
   "window_display": false
  }
 },
 "nbformat": 4,
 "nbformat_minor": 2
}
