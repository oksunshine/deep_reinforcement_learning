{
 "cells": [
  {
   "cell_type": "code",
   "execution_count": 33,
   "metadata": {
    "ExecuteTime": {
     "end_time": "2019-03-12T00:13:11.696234Z",
     "start_time": "2019-03-12T00:13:11.691835Z"
    }
   },
   "outputs": [],
   "source": [
    "import numpy as np\n",
    "import matplotlib.pyplot as plt\n",
    "%matplotlib inline"
   ]
  },
  {
   "cell_type": "markdown",
   "metadata": {
    "ExecuteTime": {
     "end_time": "2019-03-08T05:14:54.742804Z",
     "start_time": "2019-03-08T05:14:54.488047Z"
    }
   },
   "source": [
    "## define the maze"
   ]
  },
  {
   "cell_type": "code",
   "execution_count": 34,
   "metadata": {
    "ExecuteTime": {
     "end_time": "2019-03-12T00:13:12.244583Z",
     "start_time": "2019-03-12T00:13:12.024897Z"
    }
   },
   "outputs": [
    {
     "data": {
      "image/png": "[encoded data removed]",
      "text/plain": [
       "<Figure size 432x432 with 1 Axes>"
      ]
     },
     "metadata": {},
     "output_type": "display_data"
    }
   ],
   "source": [
    "fig = plt.figure(figsize=(6, 6))\n",
    "ax = plt.gca()  # gca = get current axes\n",
    "\n",
    "# draw red wall\n",
    "plt.plot([3, 4], [2, 2], color='red', linewidth=3)\n",
    "plt.plot([2, 2], [1, 2], color='red', linewidth=3)\n",
    "plt.plot([1, 1], [2, 4], color='red', linewidth=3)\n",
    "plt.plot([1, 2], [1, 1], color='red', linewidth=3)\n",
    "plt.plot([2, 3], [3, 3], color='red', linewidth=3)\n",
    "plt.plot([3, 3], [2, 3], color='red', linewidth=3)\n",
    "plt.plot([3, 3], [0, 1], color='red', linewidth=3)\n",
    "\n",
    "# -- describe the state number\n",
    "s_num = 0\n",
    "for j in range(4):\n",
    "    for i in range(4):\n",
    "        plt.text(i+0.5, j+0.5, 's{}'.format(s_num), size=20, ha='center')\n",
    "        s_num += 1\n",
    "        \n",
    "# -- setup the START and GOAL\n",
    "plt.text(0.5, 0.3, 'START', ha='center', fontsize=14)\n",
    "plt.text(3.5, 3.3, 'GOAL', ha='center', fontsize=14)\n",
    "\n",
    "# -- reformat size\n",
    "ax.set_xlim(0, 4)\n",
    "ax.set_ylim(0, 4)\n",
    "plt.tick_params(axis='both', which='both', bottom=False, top=False,\n",
    "                labelbottom=False, right=False, left=False, labelleft=False)\n",
    "\n",
    "# -- render the green circle in current state (initial state is START)\n",
    "line, = ax.plot([0.5], [0.5], marker=\"o\", color='g', markersize=80)"
   ]
  },
  {
   "cell_type": "markdown",
   "metadata": {
    "ExecuteTime": {
     "end_time": "2019-03-08T05:14:55.493831Z",
     "start_time": "2019-03-08T05:14:55.481224Z"
    }
   },
   "source": [
    "## define theta "
   ]
  },
  {
   "cell_type": "code",
   "execution_count": 35,
   "metadata": {
    "ExecuteTime": {
     "end_time": "2019-03-12T00:13:12.350318Z",
     "start_time": "2019-03-12T00:13:12.342531Z"
    }
   },
   "outputs": [],
   "source": [
    "#                 [\"UP\"  , \"RIGHT\", \"DOWN\", \"LEFT\"]\n",
    "theta = np.array([[1     , 1      , np.nan, np.nan], #s0\n",
    "                  [np.nan, 1      , np.nan, 1     ], #s1\n",
    "                  [1     , np.nan , np.nan, 1     ], #s2\n",
    "                  [1     , np.nan , np.nan, np.nan], #s3\n",
    "                  [1     , 1      , 1     , np.nan], #s4\n",
    "                  [1     , np.nan , np.nan, 1     ], #s5\n",
    "                  [1     , 1      , np.nan, 1     ], #s6\n",
    "                  [np.nan, np.nan , 1     , 1     ], #s7\n",
    "                  [1     , np.nan , 1     , np.nan], #s8\n",
    "                  [1     , 1      , 1     , np.nan], #s9\n",
    "                  [np.nan, np.nan , 1     , 1     ], #s10\n",
    "                  [1     , np.nan , np.nan, np.nan], #s11\n",
    "                  [np.nan, np.nan , 1     , np.nan], #s12\n",
    "                  [np.nan, 1      , 1     , np.nan], #s13\n",
    "                  [np.nan, 1      , np.nan, 1     ], #s14\n",
    "])"
   ]
  },
  {
   "cell_type": "markdown",
   "metadata": {
    "ExecuteTime": {
     "end_time": "2019-03-08T05:14:55.874140Z",
     "start_time": "2019-03-08T05:14:55.865098Z"
    }
   },
   "source": [
    "## convert theta into Policy Pi"
   ]
  },
  {
   "cell_type": "code",
   "execution_count": 36,
   "metadata": {
    "ExecuteTime": {
     "end_time": "2019-03-12T00:13:12.659719Z",
     "start_time": "2019-03-12T00:13:12.651989Z"
    }
   },
   "outputs": [
    {
     "name": "stdout",
     "output_type": "stream",
     "text": [
      "[[0.5        0.5        0.         0.        ]\n",
      " [0.         0.5        0.         0.5       ]\n",
      " [0.5        0.         0.         0.5       ]\n",
      " [1.         0.         0.         0.        ]\n",
      " [0.33333333 0.33333333 0.33333333 0.        ]\n",
      " [0.5        0.         0.         0.5       ]\n",
      " [0.33333333 0.33333333 0.         0.33333333]\n",
      " [0.         0.         0.5        0.5       ]\n",
      " [0.5        0.         0.5        0.        ]\n",
      " [0.33333333 0.33333333 0.33333333 0.        ]\n",
      " [0.         0.         0.5        0.5       ]\n",
      " [1.         0.         0.         0.        ]\n",
      " [0.         0.         1.         0.        ]\n",
      " [0.         0.5        0.5        0.        ]\n",
      " [0.         0.5        0.         0.5       ]]\n"
     ]
    }
   ],
   "source": [
    "def convert_theta_into_pi(theta):\n",
    "    \n",
    "    i, j = theta.shape\n",
    "    pi = np.zeros((i, j))\n",
    "    for row in range(i):\n",
    "        # get probability of action\n",
    "        pi[row] = theta[row] / np.nansum(theta[row])\n",
    "        \n",
    "    pi = np.nan_to_num(pi)\n",
    "    return pi\n",
    "\n",
    "pi_0 = convert_theta_into_pi(theta)\n",
    "print(pi_0)"
   ]
  },
  {
   "cell_type": "markdown",
   "metadata": {
    "ExecuteTime": {
     "end_time": "2019-03-08T05:14:56.158690Z",
     "start_time": "2019-03-08T05:14:56.150618Z"
    },
    "scrolled": true
   },
   "source": [
    "## initialize Q function"
   ]
  },
  {
   "cell_type": "code",
   "execution_count": 37,
   "metadata": {
    "ExecuteTime": {
     "end_time": "2019-03-12T00:13:13.262565Z",
     "start_time": "2019-03-12T00:13:13.256647Z"
    },
    "scrolled": true
   },
   "outputs": [
    {
     "name": "stdout",
     "output_type": "stream",
     "text": [
      "[[0.05530476 0.01454449        nan        nan]\n",
      " [       nan 0.09485894        nan 0.030054  ]\n",
      " [0.03625115        nan        nan 0.07264296]\n",
      " [0.07192006        nan        nan        nan]\n",
      " [0.02679807 0.0438676  0.01892074        nan]\n",
      " [0.06793997        nan        nan 0.08354537]\n",
      " [0.0332339  0.03827308        nan 0.00899734]\n",
      " [       nan        nan 0.02628804 0.04320383]\n",
      " [0.08128567        nan 0.02012987        nan]\n",
      " [0.04520838 0.09280039 0.06129936        nan]\n",
      " [       nan        nan 0.09407815 0.01472491]\n",
      " [0.09647497        nan        nan        nan]\n",
      " [       nan        nan 0.02742475        nan]\n",
      " [       nan 0.09779039 0.06648647        nan]\n",
      " [       nan 0.03951945        nan 0.06281584]]\n"
     ]
    }
   ],
   "source": [
    "i, j = pi_0.shape\n",
    "Q = np.random.rand(i, j) * theta * 0.1\n",
    "# In order to avoid miss action in early exeperiments,\n",
    "# multiplying 0.1 \n",
    "\n",
    "print(Q)"
   ]
  },
  {
   "cell_type": "code",
   "execution_count": 38,
   "metadata": {
    "ExecuteTime": {
     "end_time": "2019-03-12T00:13:14.103761Z",
     "start_time": "2019-03-12T00:13:14.097188Z"
    }
   },
   "outputs": [],
   "source": [
    "def get_next_action(s, Q, pi, epsilon) -> str:\n",
    "    # return 'UP', 'DOWN', 'RIGHT', 'LEFT'\n",
    "    \n",
    "    # epsilon-greedy\n",
    "    if np.random.rand() < epsilon:\n",
    "        next_action = np.random.choice(list(directions), p=pi[s, :])\n",
    "    else:\n",
    "        next_action = list(directions)[np.nanargmax(Q[s, :])] \n",
    "        \n",
    "    return next_action\n",
    "\n",
    "def get_s_next(s, next_a) -> int:\n",
    "    # return state num\n",
    "    \n",
    "    for idx, act in enumerate(directions):\n",
    "        if act == next_a:\n",
    "            return s + directions[act]\n",
    "        "
   ]
  },
  {
   "cell_type": "code",
   "execution_count": 39,
   "metadata": {
    "ExecuteTime": {
     "end_time": "2019-03-12T00:13:14.473273Z",
     "start_time": "2019-03-12T00:13:14.469542Z"
    }
   },
   "outputs": [],
   "source": [
    "# - test\n",
    "# s = 9\n",
    "# next_a = get_next_action(s, Q, pi_0, 0.3)\n",
    "# print(\"next_action is {}\".format(next_a))\n",
    "# next_s = get_s_next(s, next_a)\n",
    "# print(\"next state is {}\".format(next_s))"
   ]
  },
  {
   "cell_type": "markdown",
   "metadata": {
    "ExecuteTime": {
     "end_time": "2019-03-08T05:14:57.808283Z",
     "start_time": "2019-03-08T05:14:57.800307Z"
    }
   },
   "source": [
    "## define Q learning"
   ]
  },
  {
   "cell_type": "code",
   "execution_count": 40,
   "metadata": {
    "ExecuteTime": {
     "end_time": "2019-03-12T00:13:18.797893Z",
     "start_time": "2019-03-12T00:13:18.792093Z"
    }
   },
   "outputs": [],
   "source": [
    "def update_q_table(Q, s, a, r, s_next, eta, gamma):\n",
    "    \n",
    "    a_col = action2col[a]\n",
    "    if s_next == 15:\n",
    "        Q[s, a_col] = Q[s, a_col] + eta * (r - Q[s, a_col])\n",
    "        return Q.copy()\n",
    "    else:\n",
    "        Q[s, a_col] = Q[s, a_col] + eta * (r + gamma * np.nanmax(Q[s_next, :]) - Q[s, a_col])\n",
    "        return Q.copy()"
   ]
  },
  {
   "cell_type": "markdown",
   "metadata": {
    "ExecuteTime": {
     "end_time": "2019-03-08T05:14:58.913373Z",
     "start_time": "2019-03-08T05:14:58.904912Z"
    }
   },
   "source": [
    "## define Sarsa"
   ]
  },
  {
   "cell_type": "code",
   "execution_count": 41,
   "metadata": {
    "ExecuteTime": {
     "end_time": "2019-03-12T00:13:19.438291Z",
     "start_time": "2019-03-12T00:13:19.432581Z"
    }
   },
   "outputs": [],
   "source": [
    "def Sarsa(Q, s, a, r, s_next, a_next, eta, gamma):\n",
    "\n",
    "    a_col = action2col[a]\n",
    "    if s_next == 15:  # goal\n",
    "        Q[s, a_col] = Q[s, a_col] + eta * (r - Q[s, a_col])\n",
    "\n",
    "    else:\n",
    "        Q[s, a_col] = Q[s, a_col] + eta * (r + gamma * Q[s_next, a_next] - Q[s, a_col])\n",
    "\n",
    "    return Q.copy()"
   ]
  },
  {
   "cell_type": "code",
   "execution_count": 42,
   "metadata": {
    "ExecuteTime": {
     "end_time": "2019-03-12T00:13:19.936932Z",
     "start_time": "2019-03-12T00:13:19.928076Z"
    },
    "scrolled": true
   },
   "outputs": [],
   "source": [
    "def play_maze(Q, pi, epsilon, eta, gamma, update_method=\"q_learning\"): # TODO: insert Sarsa\n",
    "    # return state_action_history, updated Q function\n",
    "    s = 0\n",
    "    s_a_history = [[0, np.nan]]\n",
    "    # substitute action later\n",
    "    \n",
    "    trial_num  = 0\n",
    "    a_next = get_next_action(s, Q, pi, epsilon)\n",
    "    # はじめなのでaをa_nextとも置く。\n",
    "    \n",
    "    while True:\n",
    "        # print(\"current state: {}, next action : {}\".format(s, action))\n",
    "        action = a_next \n",
    "        \n",
    "        trial_num += 1\n",
    "        \n",
    "        s_a_history[-1][1] = action\n",
    "        \n",
    "        s_next = get_s_next(s=s, next_a=action)\n",
    "       \n",
    "        s_a_history.append([s_next, np.nan])\n",
    "        \n",
    "        if s_next == 15:\n",
    "            r = 1\n",
    "            a_next = None\n",
    "        else:\n",
    "            r = 0\n",
    "            a_next = get_next_action(s_next, Q, pi, epsilon)\n",
    "        \n",
    "        if update_method == \"q_learning\":\n",
    "            Q = update_q_table(Q, s, action, r, s_next, eta, gamma)\n",
    "        if update_method == \"sarsa\":\n",
    "            Q = update_q_table(Q, s, action, r, s_next, a_next, eta, gamma)\n",
    "        \n",
    "        if s_next == 15:\n",
    "            break\n",
    "        else:\n",
    "            s = s_next\n",
    "        \n",
    "    return s_a_history, Q\n"
   ]
  },
  {
   "cell_type": "code",
   "execution_count": 43,
   "metadata": {
    "ExecuteTime": {
     "end_time": "2019-03-12T00:13:20.988139Z",
     "start_time": "2019-03-12T00:13:20.900687Z"
    }
   },
   "outputs": [
    {
     "name": "stdout",
     "output_type": "stream",
     "text": [
      "[[0.09021101 0.08278263 0.05391907 0.03215845 0.02826004 0.03241657\n",
      "  0.0689584  0.04031863 0.01923891 0.06445489 0.05011225 0.08353263\n",
      "  0.02059041 0.06898652 0.03389203]]\n",
      "========== Episode: 1 ==========\n",
      "step size in this trial is 56.\n",
      "========== Episode: 2 ==========\n",
      "step size in this trial is 72.\n",
      "========== Episode: 3 ==========\n",
      "step size in this trial is 106.\n",
      "========== Episode: 4 ==========\n",
      "step size in this trial is 16.\n",
      "========== Episode: 5 ==========\n",
      "step size in this trial is 20.\n",
      "========== Episode: 6 ==========\n",
      "step size in this trial is 22.\n",
      "========== Episode: 7 ==========\n",
      "step size in this trial is 26.\n",
      "========== Episode: 8 ==========\n",
      "step size in this trial is 26.\n",
      "========== Episode: 9 ==========\n",
      "step size in this trial is 26.\n",
      "========== Episode: 10 ==========\n",
      "step size in this trial is 22.\n",
      "========== Episode: 11 ==========\n",
      "step size in this trial is 18.\n",
      "========== Episode: 12 ==========\n",
      "step size in this trial is 22.\n",
      "========== Episode: 13 ==========\n",
      "step size in this trial is 14.\n",
      "========== Episode: 14 ==========\n",
      "step size in this trial is 18.\n",
      "========== Episode: 15 ==========\n",
      "step size in this trial is 14.\n",
      "========== Episode: 16 ==========\n",
      "step size in this trial is 10.\n",
      "========== Episode: 17 ==========\n",
      "step size in this trial is 10.\n",
      "========== Episode: 18 ==========\n",
      "step size in this trial is 6.\n",
      "========== Episode: 19 ==========\n",
      "step size in this trial is 6.\n",
      "========== Episode: 20 ==========\n",
      "step size in this trial is 6.\n",
      "========== Episode: 21 ==========\n",
      "step size in this trial is 6.\n",
      "========== Episode: 22 ==========\n",
      "step size in this trial is 6.\n",
      "========== Episode: 23 ==========\n",
      "step size in this trial is 6.\n",
      "========== Episode: 24 ==========\n",
      "step size in this trial is 6.\n",
      "========== Episode: 25 ==========\n",
      "step size in this trial is 6.\n",
      "========== Episode: 26 ==========\n",
      "step size in this trial is 6.\n",
      "========== Episode: 27 ==========\n",
      "step size in this trial is 6.\n",
      "========== Episode: 28 ==========\n",
      "step size in this trial is 6.\n",
      "========== Episode: 29 ==========\n",
      "step size in this trial is 6.\n",
      "========== Episode: 30 ==========\n",
      "step size in this trial is 6.\n",
      "========== Episode: 31 ==========\n",
      "step size in this trial is 6.\n",
      "========== Episode: 32 ==========\n",
      "step size in this trial is 6.\n",
      "========== Episode: 33 ==========\n",
      "step size in this trial is 6.\n",
      "========== Episode: 34 ==========\n",
      "step size in this trial is 6.\n",
      "========== Episode: 35 ==========\n",
      "step size in this trial is 6.\n",
      "========== Episode: 36 ==========\n",
      "step size in this trial is 6.\n",
      "========== Episode: 37 ==========\n",
      "step size in this trial is 6.\n",
      "========== Episode: 38 ==========\n",
      "step size in this trial is 6.\n",
      "========== Episode: 39 ==========\n",
      "step size in this trial is 6.\n",
      "========== Episode: 40 ==========\n",
      "step size in this trial is 6.\n",
      "========== Episode: 41 ==========\n",
      "step size in this trial is 6.\n",
      "========== Episode: 42 ==========\n",
      "step size in this trial is 6.\n",
      "========== Episode: 43 ==========\n",
      "step size in this trial is 6.\n",
      "========== Episode: 44 ==========\n",
      "step size in this trial is 6.\n",
      "========== Episode: 45 ==========\n",
      "step size in this trial is 6.\n",
      "========== Episode: 46 ==========\n",
      "step size in this trial is 6.\n",
      "========== Episode: 47 ==========\n",
      "step size in this trial is 6.\n",
      "========== Episode: 48 ==========\n",
      "step size in this trial is 6.\n",
      "========== Episode: 49 ==========\n",
      "step size in this trial is 6.\n",
      "========== Episode: 50 ==========\n",
      "step size in this trial is 6.\n",
      "========== Episode: 51 ==========\n",
      "step size in this trial is 6.\n",
      "========== Episode: 52 ==========\n",
      "step size in this trial is 6.\n",
      "========== Episode: 53 ==========\n",
      "step size in this trial is 6.\n",
      "========== Episode: 54 ==========\n",
      "step size in this trial is 6.\n",
      "========== Episode: 55 ==========\n",
      "step size in this trial is 6.\n",
      "========== Episode: 56 ==========\n",
      "step size in this trial is 6.\n",
      "========== Episode: 57 ==========\n",
      "step size in this trial is 6.\n",
      "========== Episode: 58 ==========\n",
      "step size in this trial is 6.\n",
      "========== Episode: 59 ==========\n",
      "step size in this trial is 6.\n",
      "========== Episode: 60 ==========\n",
      "step size in this trial is 6.\n",
      "========== Episode: 61 ==========\n",
      "step size in this trial is 6.\n",
      "========== Episode: 62 ==========\n",
      "step size in this trial is 6.\n",
      "========== Episode: 63 ==========\n",
      "step size in this trial is 6.\n",
      "========== Episode: 64 ==========\n",
      "step size in this trial is 6.\n",
      "========== Episode: 65 ==========\n",
      "step size in this trial is 6.\n",
      "========== Episode: 66 ==========\n",
      "step size in this trial is 6.\n",
      "========== Episode: 67 ==========\n",
      "step size in this trial is 6.\n",
      "========== Episode: 68 ==========\n",
      "step size in this trial is 6.\n",
      "========== Episode: 69 ==========\n",
      "step size in this trial is 6.\n",
      "========== Episode: 70 ==========\n",
      "step size in this trial is 6.\n",
      "========== Episode: 71 ==========\n",
      "step size in this trial is 6.\n",
      "========== Episode: 72 ==========\n",
      "step size in this trial is 6.\n",
      "========== Episode: 73 ==========\n",
      "step size in this trial is 6.\n",
      "========== Episode: 74 ==========\n",
      "step size in this trial is 6.\n",
      "========== Episode: 75 ==========\n",
      "step size in this trial is 6.\n",
      "========== Episode: 76 ==========\n",
      "step size in this trial is 6.\n",
      "========== Episode: 77 ==========\n",
      "step size in this trial is 6.\n",
      "========== Episode: 78 ==========\n",
      "step size in this trial is 6.\n",
      "========== Episode: 79 ==========\n",
      "step size in this trial is 6.\n",
      "========== Episode: 80 ==========\n",
      "step size in this trial is 6.\n",
      "========== Episode: 81 ==========\n",
      "step size in this trial is 6.\n",
      "========== Episode: 82 ==========\n",
      "step size in this trial is 6.\n",
      "========== Episode: 83 ==========\n",
      "step size in this trial is 6.\n",
      "========== Episode: 84 ==========\n",
      "step size in this trial is 6.\n",
      "========== Episode: 85 ==========\n",
      "step size in this trial is 6.\n",
      "========== Episode: 86 ==========\n",
      "step size in this trial is 6.\n",
      "========== Episode: 87 ==========\n",
      "step size in this trial is 6.\n",
      "========== Episode: 88 ==========\n",
      "step size in this trial is 6.\n",
      "========== Episode: 89 ==========\n",
      "step size in this trial is 6.\n",
      "========== Episode: 90 ==========\n",
      "step size in this trial is 6.\n",
      "========== Episode: 91 ==========\n",
      "step size in this trial is 6.\n",
      "========== Episode: 92 ==========\n",
      "step size in this trial is 6.\n",
      "========== Episode: 93 ==========\n",
      "step size in this trial is 6.\n",
      "========== Episode: 94 ==========\n",
      "step size in this trial is 6.\n",
      "========== Episode: 95 ==========\n",
      "step size in this trial is 6.\n",
      "========== Episode: 96 ==========\n",
      "step size in this trial is 6.\n",
      "========== Episode: 97 ==========\n",
      "step size in this trial is 6.\n",
      "========== Episode: 98 ==========\n",
      "step size in this trial is 6.\n",
      "========== Episode: 99 ==========\n",
      "step size in this trial is 6.\n"
     ]
    }
   ],
   "source": [
    "# - define the const\n",
    "\n",
    "eta = 0.1   # learning rate\n",
    "GAMMA = 0.9 # discount rate\n",
    "epsilon = 0.5\n",
    "continue_flg = True\n",
    "episode = 1\n",
    "directions = {'UP'   :  4,\n",
    "              'RIGHT':  1,\n",
    "              'DOWN' : -4,\n",
    "              'LEFT' : -1\n",
    "             }\n",
    "\n",
    "action2col = { act: col for col,act in enumerate(directions) }\n",
    "i, j = pi_0.shape\n",
    "Q = np.random.rand(i, j) * theta * 0.1\n",
    "initial_Q = Q.copy()\n",
    "Q_sarsa = Q.copy()\n",
    "Q_Q_learning = Q.copy()\n",
    "V_sarsa = np.nanmax(Q, axis=1).reshape(1, -1)\n",
    "V_Q_learning = np.nanmax(Q, axis=1).reshape(1, -1)\n",
    "print(V)\n",
    "\n",
    "while continue_flg:\n",
    "    \n",
    "    print(\"========== Episode: {} ==========\".format(episode))\n",
    "    epsilon /= 2\n",
    "    \n",
    "    s_a_history, new_Q = play_maze(Q, pi_0, epsilon, eta, GAMMA)\n",
    "    new_v = np.nanmax(new_Q, axis=1).reshape(1, -1)\n",
    "    V = np.append(V, new_v, axis=0)\n",
    "    Q = new_Q.copy()\n",
    "    print(\"step size in this trial is {}.\".format(len(s_a_history)-1))\n",
    "    \n",
    "    episode += 1\n",
    "    if episode >= 100:\n",
    "        continue_flg = False\n",
    "        \n",
    "v_16 = np.ones((100,1))\n",
    "V = np.concatenate((V, v_16), axis=1).reshape(-1, 4, 4)"
   ]
  },
  {
   "cell_type": "markdown",
   "metadata": {},
   "source": [
    "# TODO : investigate the differences between q-learning and Sarsa"
   ]
  },
  {
   "cell_type": "code",
   "execution_count": 44,
   "metadata": {
    "ExecuteTime": {
     "end_time": "2019-03-12T00:13:34.212238Z",
     "start_time": "2019-03-12T00:13:34.208350Z"
    }
   },
   "outputs": [],
   "source": [
    "from matplotlib.animation import FuncAnimation"
   ]
  },
  {
   "cell_type": "code",
   "execution_count": 64,
   "metadata": {
    "ExecuteTime": {
     "end_time": "2019-03-12T00:37:47.872225Z",
     "start_time": "2019-03-12T00:37:47.403626Z"
    }
   },
   "outputs": [
    {
     "data": {
      "image/png": "[encoded data removed]",
      "text/plain": [
       "<Figure size 1296x360 with 3 Axes>"
      ]
     },
     "metadata": {},
     "output_type": "display_data"
    }
   ],
   "source": [
    "fig, (ax1, ax2, ax3) = plt.subplots(ncols=3, figsize=(18, 5))\n",
    "\n",
    "ax2.set_title(\"Sarsa\",fontsize=20)\n",
    "ax3.set_title(\"Q-Learning\",fontsize=20)\n",
    "\n",
    "for ax in [ax1, ax2, ax3]:\n",
    "    ax.plot([2.5, 3.5], [1.5 , 1.5], color='red', linewidth=3)\n",
    "    ax.plot([1.5, 1.5], [0.5 , 1.5], color='red', linewidth=3)\n",
    "    ax.plot([0.5, 0.5], [1.5 , 3.5], color='red', linewidth=3)\n",
    "    ax.plot([0.5, 1.5], [0.5 , 0.5], color='red', linewidth=3)\n",
    "    ax.plot([1.5, 2.5], [2.5 , 2.5], color='red', linewidth=3)\n",
    "    ax.plot([2.5, 2.5], [1.5 , 2.5], color='red', linewidth=3)\n",
    "    ax.plot([2.5, 2.5], [-0.5, 0.5], color='red', linewidth=3)\n",
    "    ax.text(0, -0.2, 'START', ha='center', fontsize=14)\n",
    "    ax.text(3, 2.8, 'GOAL', ha='center', fontsize=14)\n",
    "\n",
    "    # -- reformat size\n",
    "    ax.set_xlim(-0.5, 3.5)\n",
    "    ax.set_ylim(-0.5, 3.5)\n",
    "    # -- describe the state number\n",
    "    s_num = 0\n",
    "    for j in range(4):\n",
    "        for i in range(4):\n",
    "            ax.text(i, j, 's{}'.format(s_num), size=20, ha='center')\n",
    "            s_num += 1\n",
    "\n",
    "    ax.tick_params(axis='both', which='both', bottom=False, top=False,\n",
    "                    labelbottom=False, right=False, left=False, labelleft=False)"
   ]
  },
  {
   "cell_type": "code",
   "execution_count": 65,
   "metadata": {
    "ExecuteTime": {
     "end_time": "2019-03-12T00:38:56.376470Z",
     "start_time": "2019-03-12T00:38:17.260110Z"
    }
   },
   "outputs": [],
   "source": [
    "def update(i):\n",
    "    ax1.set_title(\"episode: {}\".format(i),fontsize=20)\n",
    "    ax2.imshow(V[i])\n",
    "\n",
    "anim = FuncAnimation(fig, update, interval=100 ,frames=len(V))\n",
    "anim.save(\"Sarsa.mp4\", writer=\"ffmpeg\")"
   ]
  },
  {
   "cell_type": "code",
   "execution_count": null,
   "metadata": {},
   "outputs": [],
   "source": []
  }
 ],
 "metadata": {
  "kernelspec": {
   "display_name": "Python 3",
   "language": "python",
   "name": "python3"
  },
  "language_info": {
   "codemirror_mode": {
    "name": "ipython",
    "version": 3
   },
   "file_extension": ".py",
   "mimetype": "text/x-python",
   "name": "python",
   "nbconvert_exporter": "python",
   "pygments_lexer": "ipython3",
   "version": "3.6.5"
  },
  "varInspector": {
   "cols": {
    "lenName": 16,
    "lenType": 16,
    "lenVar": 40
   },
   "kernels_config": {
    "python": {
     "delete_cmd_postfix": "",
     "delete_cmd_prefix": "del ",
     "library": "var_list.py",
     "varRefreshCmd": "print(var_dic_list())"
    },
    "r": {
     "delete_cmd_postfix": ") ",
     "delete_cmd_prefix": "rm(",
     "library": "var_list.r",
     "varRefreshCmd": "cat(var_dic_list()) "
    }
   },
   "types_to_exclude": [
    "module",
    "function",
    "builtin_function_or_method",
    "instance",
    "_Feature"
   ],
   "window_display": false
  }
 },
 "nbformat": 4,
 "nbformat_minor": 2
}
