{
 "cells": [
  {
   "cell_type": "markdown",
   "metadata": {},
   "source": [
    "# Q-learning, Sarsa Demo"
   ]
  },
  {
   "cell_type": "markdown",
   "metadata": {},
   "source": [
    "## flow\n",
    "- define the maze\n",
    "- define theta for initial policy \n",
    "- convert theta into policy_0\n",
    "- initialize Q-function\n",
    "- define Sarsa and Q-learning\n",
    "- define play_maze function\n",
    "- main function\n",
    "- visualize V (state-value function)"
   ]
  },
  {
   "cell_type": "code",
   "execution_count": 16,
   "metadata": {
    "ExecuteTime": {
     "end_time": "2019-03-29T02:07:15.984030Z",
     "start_time": "2019-03-29T02:07:15.979374Z"
    }
   },
   "outputs": [],
   "source": [
    "import numpy as np\n",
    "import matplotlib.pyplot as plt\n",
    "%matplotlib inline"
   ]
  },
  {
   "cell_type": "markdown",
   "metadata": {
    "ExecuteTime": {
     "end_time": "2019-03-08T05:14:54.742804Z",
     "start_time": "2019-03-08T05:14:54.488047Z"
    }
   },
   "source": [
    "## define the maze"
   ]
  },
  {
   "cell_type": "code",
   "execution_count": 17,
   "metadata": {
    "ExecuteTime": {
     "end_time": "2019-03-29T02:07:17.114670Z",
     "start_time": "2019-03-29T02:07:16.900549Z"
    }
   },
   "outputs": [
    {
     "data": {
      "image/png": "[encoded data removed]",
      "text/plain": [
       "<Figure size 432x432 with 1 Axes>"
      ]
     },
     "metadata": {},
     "output_type": "display_data"
    }
   ],
   "source": [
    "fig = plt.figure(figsize=(6, 6))\n",
    "ax = plt.gca()\n",
    "\n",
    "# draw red wall\n",
    "plt.plot([3, 4], [2, 2], color='red', linewidth=3)\n",
    "plt.plot([2, 2], [1, 2], color='red', linewidth=3)\n",
    "plt.plot([1, 1], [2, 4], color='red', linewidth=3)\n",
    "plt.plot([1, 2], [1, 1], color='red', linewidth=3)\n",
    "plt.plot([2, 3], [3, 3], color='red', linewidth=3)\n",
    "plt.plot([3, 3], [2, 3], color='red', linewidth=3)\n",
    "plt.plot([3, 3], [0, 1], color='red', linewidth=3)\n",
    "\n",
    "# -- describe the state number\n",
    "s_num = 0\n",
    "for j in range(4):\n",
    "    for i in range(4):\n",
    "        plt.text(i+0.5, j+0.5, 's{}'.format(s_num), size=20, ha='center')\n",
    "        s_num += 1\n",
    "        \n",
    "# -- setup the START and GOAL\n",
    "plt.text(0.5, 0.3, 'START', ha='center', fontsize=14)\n",
    "plt.text(3.5, 3.3, 'GOAL', ha='center', fontsize=14)\n",
    "\n",
    "# -- reformat size\n",
    "ax.set_xlim(0, 4)\n",
    "ax.set_ylim(0, 4)\n",
    "plt.tick_params(axis='both', which='both', bottom=False, top=False,\n",
    "                labelbottom=False, right=False, left=False, labelleft=False)\n",
    "\n",
    "# -- render the green circle in current state (initial state is START)\n",
    "line, = ax.plot([0.5], [0.5], marker=\"o\", color='g', markersize=80)"
   ]
  },
  {
   "cell_type": "markdown",
   "metadata": {
    "ExecuteTime": {
     "end_time": "2019-03-08T05:14:55.493831Z",
     "start_time": "2019-03-08T05:14:55.481224Z"
    }
   },
   "source": [
    "## define theta "
   ]
  },
  {
   "cell_type": "code",
   "execution_count": 18,
   "metadata": {
    "ExecuteTime": {
     "end_time": "2019-03-29T02:07:17.961978Z",
     "start_time": "2019-03-29T02:07:17.953862Z"
    }
   },
   "outputs": [],
   "source": [
    "# - define the theta for initial policy by Tabler Representative\n",
    "#                 [\"UP\"  , \"RIGHT\", \"DOWN\", \"LEFT\"]\n",
    "theta = np.array([[1     , 1      , np.nan, np.nan], #s0\n",
    "                  [np.nan, 1      , np.nan, 1     ], #s1\n",
    "                  [1     , np.nan , np.nan, 1     ], #s2\n",
    "                  [1     , np.nan , np.nan, np.nan], #s3\n",
    "                  [1     , 1      , 1     , np.nan], #s4\n",
    "                  [1     , np.nan , np.nan, 1     ], #s5\n",
    "                  [1     , 1      , 1     , np.nan], #s6\n",
    "                  [np.nan, np.nan , 1     , 1     ], #s7\n",
    "                  [1     , np.nan , 1     , np.nan], #s8\n",
    "                  [1     , 1      , 1     , np.nan], #s9\n",
    "                  [np.nan, np.nan , 1     , 1     ], #s10\n",
    "                  [1     , np.nan , np.nan, np.nan], #s11\n",
    "                  [np.nan, np.nan , 1     , np.nan], #s12\n",
    "                  [np.nan, 1      , 1     , np.nan], #s13\n",
    "                  [np.nan, 1      , np.nan, 1     ], #s14\n",
    "])"
   ]
  },
  {
   "cell_type": "markdown",
   "metadata": {
    "ExecuteTime": {
     "end_time": "2019-03-08T05:14:55.874140Z",
     "start_time": "2019-03-08T05:14:55.865098Z"
    }
   },
   "source": [
    "## convert theta into Policy Pi"
   ]
  },
  {
   "cell_type": "code",
   "execution_count": 19,
   "metadata": {
    "ExecuteTime": {
     "end_time": "2019-03-29T02:07:19.232287Z",
     "start_time": "2019-03-29T02:07:19.226183Z"
    }
   },
   "outputs": [
    {
     "name": "stdout",
     "output_type": "stream",
     "text": [
      "[[0.5        0.5        0.         0.        ]\n",
      " [0.         0.5        0.         0.5       ]\n",
      " [0.5        0.         0.         0.5       ]\n",
      " [1.         0.         0.         0.        ]\n",
      " [0.33333333 0.33333333 0.33333333 0.        ]\n",
      " [0.5        0.         0.         0.5       ]\n",
      " [0.33333333 0.33333333 0.33333333 0.        ]\n",
      " [0.         0.         0.5        0.5       ]\n",
      " [0.5        0.         0.5        0.        ]\n",
      " [0.33333333 0.33333333 0.33333333 0.        ]\n",
      " [0.         0.         0.5        0.5       ]\n",
      " [1.         0.         0.         0.        ]\n",
      " [0.         0.         1.         0.        ]\n",
      " [0.         0.5        0.5        0.        ]\n",
      " [0.         0.5        0.         0.5       ]]\n"
     ]
    }
   ],
   "source": [
    "def convert_theta_into_pi(theta):\n",
    "    \n",
    "    i, j = theta.shape\n",
    "    pi = np.zeros((i, j))\n",
    "    for row in range(i):\n",
    "        # get probability of action\n",
    "        pi[row] = theta[row] / np.nansum(theta[row])\n",
    "        \n",
    "    pi = np.nan_to_num(pi)\n",
    "    return pi\n",
    "\n",
    "pi_0 = convert_theta_into_pi(theta)\n",
    "print(pi_0)"
   ]
  },
  {
   "cell_type": "markdown",
   "metadata": {
    "ExecuteTime": {
     "end_time": "2019-03-08T05:14:56.158690Z",
     "start_time": "2019-03-08T05:14:56.150618Z"
    },
    "scrolled": true
   },
   "source": [
    "## initialize Q function"
   ]
  },
  {
   "cell_type": "code",
   "execution_count": 20,
   "metadata": {
    "ExecuteTime": {
     "end_time": "2019-03-29T02:07:21.484776Z",
     "start_time": "2019-03-29T02:07:21.479305Z"
    },
    "scrolled": true
   },
   "outputs": [
    {
     "name": "stdout",
     "output_type": "stream",
     "text": [
      "[[0.07195352 0.05927843        nan        nan]\n",
      " [       nan 0.04212888        nan 0.09617763]\n",
      " [0.0852002         nan        nan 0.09433165]\n",
      " [0.02860838        nan        nan        nan]\n",
      " [0.08704304 0.09658944 0.06413937        nan]\n",
      " [0.06957655        nan        nan 0.01131479]\n",
      " [0.04635191 0.08569776 0.09127667        nan]\n",
      " [       nan        nan 0.02813562 0.05981237]\n",
      " [0.07965442        nan 0.03181835        nan]\n",
      " [0.07997931 0.00764603 0.00081551        nan]\n",
      " [       nan        nan 0.04270071 0.04403313]\n",
      " [0.01800518        nan        nan        nan]\n",
      " [       nan        nan 0.08086441        nan]\n",
      " [       nan 0.08106875 0.08304737        nan]\n",
      " [       nan 0.03668151        nan 0.06147955]]\n"
     ]
    }
   ],
   "source": [
    "i, j = pi_0.shape\n",
    "Q = np.random.rand(i, j) * theta *0.1\n",
    "# In order to avoid miss action in early exeperiments,\n",
    "# multiplying 0.1 \n",
    "\n",
    "print(Q)"
   ]
  },
  {
   "cell_type": "code",
   "execution_count": 21,
   "metadata": {
    "ExecuteTime": {
     "end_time": "2019-03-29T02:07:23.281934Z",
     "start_time": "2019-03-29T02:07:23.275362Z"
    }
   },
   "outputs": [],
   "source": [
    "def get_next_action(s, Q, pi, epsilon) -> str:\n",
    "    # return 'UP', 'DOWN', 'RIGHT', 'LEFT'\n",
    "    \n",
    "    # epsilon-greedy\n",
    "    if np.random.rand() < epsilon:\n",
    "        next_action = np.random.choice(list(directions), p=pi[s, :])\n",
    "    else:\n",
    "        next_action = list(directions)[np.nanargmax(Q[s, :])] \n",
    "        \n",
    "    return next_action\n",
    "\n",
    "def get_s_next(s, next_a) -> int:\n",
    "    # return state num\n",
    "    \n",
    "    for idx, act in enumerate(directions):\n",
    "        if act == next_a:\n",
    "            return s + directions[act]\n",
    "        "
   ]
  },
  {
   "cell_type": "code",
   "execution_count": 22,
   "metadata": {
    "ExecuteTime": {
     "end_time": "2019-03-29T02:07:23.841024Z",
     "start_time": "2019-03-29T02:07:23.838017Z"
    }
   },
   "outputs": [],
   "source": [
    "# - test\n",
    "# s = 9\n",
    "# next_a = get_next_action(s, Q, pi_0, 0.3)\n",
    "# print(\"next_action is {}\".format(next_a))\n",
    "# next_s = get_s_next(s, next_a)\n",
    "# print(\"next state is {}\".format(next_s))"
   ]
  },
  {
   "cell_type": "markdown",
   "metadata": {
    "ExecuteTime": {
     "end_time": "2019-03-08T05:14:58.913373Z",
     "start_time": "2019-03-08T05:14:58.904912Z"
    }
   },
   "source": [
    "## define Sarsa"
   ]
  },
  {
   "cell_type": "code",
   "execution_count": 23,
   "metadata": {
    "ExecuteTime": {
     "end_time": "2019-03-29T02:07:25.303483Z",
     "start_time": "2019-03-29T02:07:25.297909Z"
    }
   },
   "outputs": [],
   "source": [
    "def Sarsa(Q, s, a, r, s_next, a_next, eta, gamma):\n",
    "\n",
    "    a_col = action2col[a]\n",
    "    if s_next == 15:  # goal\n",
    "        Q[s, a_col] = Q[s, a_col] + eta * (r - Q[s, a_col])\n",
    "\n",
    "    else:\n",
    "        a_next_col = action2col[a_next]\n",
    "        Q[s, a_col] = Q[s, a_col] + eta * (r + gamma * Q[s_next, a_next_col] - Q[s, a_col])\n",
    "\n",
    "    return Q.copy()"
   ]
  },
  {
   "cell_type": "markdown",
   "metadata": {
    "ExecuteTime": {
     "end_time": "2019-03-08T05:14:57.808283Z",
     "start_time": "2019-03-08T05:14:57.800307Z"
    }
   },
   "source": [
    "## define Q learning"
   ]
  },
  {
   "cell_type": "code",
   "execution_count": 24,
   "metadata": {
    "ExecuteTime": {
     "end_time": "2019-03-29T02:07:28.360837Z",
     "start_time": "2019-03-29T02:07:28.354987Z"
    }
   },
   "outputs": [],
   "source": [
    "def update_q_learning(Q, s, a, r, s_next, eta, gamma):\n",
    "    \n",
    "    a_col = action2col[a]\n",
    "    if s_next == 15:\n",
    "        Q[s, a_col] = Q[s, a_col] + eta * (r - Q[s, a_col])\n",
    "        return Q.copy()\n",
    "    else:\n",
    "        Q[s, a_col] = Q[s, a_col] + eta * (r + gamma * np.nanmax(Q[s_next, :]) - Q[s, a_col])\n",
    "        return Q.copy()"
   ]
  },
  {
   "cell_type": "code",
   "execution_count": 26,
   "metadata": {
    "ExecuteTime": {
     "end_time": "2019-03-29T02:08:04.003282Z",
     "start_time": "2019-03-29T02:08:03.995499Z"
    },
    "scrolled": true
   },
   "outputs": [],
   "source": [
    "def play_maze(Q, pi, epsilon, eta, gamma, update_method=\"q_learning\"):\n",
    "    # return state_action_history, updated Q function\n",
    "    s = 0\n",
    "    s_a_history = [[0, np.nan]]\n",
    "    # substitute action later\n",
    "    \n",
    "    trial_num  = 0\n",
    "    a_next = get_next_action(s, Q, pi, epsilon)\n",
    "    # selecting action\n",
    "    \n",
    "    while True:\n",
    "        # print(\"current state: {}, next action : {}\".format(s, action))\n",
    "        action = a_next \n",
    "        \n",
    "        trial_num += 1\n",
    "        \n",
    "        s_a_history[-1][1] = action\n",
    "        \n",
    "        s_next = get_s_next(s=s, next_a=action)\n",
    "       \n",
    "        s_a_history.append([s_next, np.nan])\n",
    "        \n",
    "        if s_next == 15:\n",
    "            r = 1\n",
    "            a_next = None\n",
    "        else:\n",
    "            r = 0\n",
    "            a_next = get_next_action(s_next, Q, pi, epsilon)\n",
    "        \n",
    "        if update_method == \"sarsa\":\n",
    "            Q = Sarsa(Q, s, action, r, s_next, a_next, eta, gamma)\n",
    "            \n",
    "        elif update_method == \"q_learning\":\n",
    "            Q = update_q_learning(Q, s, action, r, s_next, eta, gamma)\n",
    "        \n",
    "        if s_next == 15:\n",
    "            break\n",
    "        else:\n",
    "            s = s_next\n",
    "        \n",
    "    return s_a_history, Q\n"
   ]
  },
  {
   "cell_type": "code",
   "execution_count": 27,
   "metadata": {
    "ExecuteTime": {
     "end_time": "2019-03-29T02:08:04.700629Z",
     "start_time": "2019-03-29T02:08:04.505173Z"
    },
    "scrolled": true
   },
   "outputs": [
    {
     "name": "stdout",
     "output_type": "stream",
     "text": [
      "========== Episode: 1 ==========\n",
      "Sarsa step size in this trial is 110.\n",
      "Q-learning step size in this trial is 110.\n",
      "========== Episode: 2 ==========\n",
      "Sarsa step size in this trial is 98.\n",
      "Q-learning step size in this trial is 98.\n",
      "========== Episode: 3 ==========\n",
      "Sarsa step size in this trial is 42.\n",
      "Q-learning step size in this trial is 42.\n",
      "========== Episode: 4 ==========\n",
      "Sarsa step size in this trial is 130.\n",
      "Q-learning step size in this trial is 130.\n",
      "========== Episode: 5 ==========\n",
      "Sarsa step size in this trial is 112.\n",
      "Q-learning step size in this trial is 112.\n",
      "========== Episode: 6 ==========\n",
      "Sarsa step size in this trial is 132.\n",
      "Q-learning step size in this trial is 132.\n",
      "========== Episode: 7 ==========\n",
      "Sarsa step size in this trial is 50.\n",
      "Q-learning step size in this trial is 50.\n",
      "========== Episode: 8 ==========\n",
      "Sarsa step size in this trial is 68.\n",
      "Q-learning step size in this trial is 68.\n",
      "========== Episode: 9 ==========\n",
      "Sarsa step size in this trial is 28.\n",
      "Q-learning step size in this trial is 28.\n",
      "========== Episode: 10 ==========\n",
      "Sarsa step size in this trial is 10.\n",
      "Q-learning step size in this trial is 10.\n",
      "========== Episode: 11 ==========\n",
      "Sarsa step size in this trial is 10.\n",
      "Q-learning step size in this trial is 10.\n",
      "========== Episode: 12 ==========\n",
      "Sarsa step size in this trial is 8.\n",
      "Q-learning step size in this trial is 8.\n",
      "========== Episode: 13 ==========\n",
      "Sarsa step size in this trial is 18.\n",
      "Q-learning step size in this trial is 18.\n",
      "========== Episode: 14 ==========\n",
      "Sarsa step size in this trial is 18.\n",
      "Q-learning step size in this trial is 18.\n",
      "========== Episode: 15 ==========\n",
      "Sarsa step size in this trial is 30.\n",
      "Q-learning step size in this trial is 30.\n",
      "========== Episode: 16 ==========\n",
      "Sarsa step size in this trial is 32.\n",
      "Q-learning step size in this trial is 32.\n",
      "========== Episode: 17 ==========\n",
      "Sarsa step size in this trial is 32.\n",
      "Q-learning step size in this trial is 32.\n",
      "========== Episode: 18 ==========\n",
      "Sarsa step size in this trial is 26.\n",
      "Q-learning step size in this trial is 26.\n",
      "========== Episode: 19 ==========\n",
      "Sarsa step size in this trial is 26.\n",
      "Q-learning step size in this trial is 26.\n",
      "========== Episode: 20 ==========\n",
      "Sarsa step size in this trial is 26.\n",
      "Q-learning step size in this trial is 26.\n",
      "========== Episode: 21 ==========\n",
      "Sarsa step size in this trial is 20.\n",
      "Q-learning step size in this trial is 20.\n",
      "========== Episode: 22 ==========\n",
      "Sarsa step size in this trial is 26.\n",
      "Q-learning step size in this trial is 26.\n",
      "========== Episode: 23 ==========\n",
      "Sarsa step size in this trial is 14.\n",
      "Q-learning step size in this trial is 14.\n",
      "========== Episode: 24 ==========\n",
      "Sarsa step size in this trial is 26.\n",
      "Q-learning step size in this trial is 26.\n",
      "========== Episode: 25 ==========\n",
      "Sarsa step size in this trial is 8.\n",
      "Q-learning step size in this trial is 8.\n",
      "========== Episode: 26 ==========\n",
      "Sarsa step size in this trial is 20.\n",
      "Q-learning step size in this trial is 20.\n",
      "========== Episode: 27 ==========\n",
      "Sarsa step size in this trial is 14.\n",
      "Q-learning step size in this trial is 14.\n",
      "========== Episode: 28 ==========\n",
      "Sarsa step size in this trial is 8.\n",
      "Q-learning step size in this trial is 8.\n",
      "========== Episode: 29 ==========\n",
      "Sarsa step size in this trial is 10.\n",
      "Q-learning step size in this trial is 10.\n",
      "========== Episode: 30 ==========\n",
      "Sarsa step size in this trial is 32.\n",
      "Q-learning step size in this trial is 32.\n",
      "========== Episode: 31 ==========\n",
      "Sarsa step size in this trial is 8.\n",
      "Q-learning step size in this trial is 8.\n",
      "========== Episode: 32 ==========\n",
      "Sarsa step size in this trial is 8.\n",
      "Q-learning step size in this trial is 8.\n",
      "========== Episode: 33 ==========\n",
      "Sarsa step size in this trial is 10.\n",
      "Q-learning step size in this trial is 10.\n",
      "========== Episode: 34 ==========\n",
      "Sarsa step size in this trial is 8.\n",
      "Q-learning step size in this trial is 8.\n",
      "========== Episode: 35 ==========\n",
      "Sarsa step size in this trial is 8.\n",
      "Q-learning step size in this trial is 8.\n",
      "========== Episode: 36 ==========\n",
      "Sarsa step size in this trial is 8.\n",
      "Q-learning step size in this trial is 8.\n",
      "========== Episode: 37 ==========\n",
      "Sarsa step size in this trial is 8.\n",
      "Q-learning step size in this trial is 8.\n",
      "========== Episode: 38 ==========\n",
      "Sarsa step size in this trial is 8.\n",
      "Q-learning step size in this trial is 8.\n",
      "========== Episode: 39 ==========\n",
      "Sarsa step size in this trial is 8.\n",
      "Q-learning step size in this trial is 8.\n",
      "========== Episode: 40 ==========\n",
      "Sarsa step size in this trial is 8.\n",
      "Q-learning step size in this trial is 8.\n",
      "========== Episode: 41 ==========\n",
      "Sarsa step size in this trial is 8.\n",
      "Q-learning step size in this trial is 8.\n",
      "========== Episode: 42 ==========\n",
      "Sarsa step size in this trial is 8.\n",
      "Q-learning step size in this trial is 8.\n",
      "========== Episode: 43 ==========\n",
      "Sarsa step size in this trial is 8.\n",
      "Q-learning step size in this trial is 8.\n",
      "========== Episode: 44 ==========\n",
      "Sarsa step size in this trial is 8.\n",
      "Q-learning step size in this trial is 8.\n",
      "========== Episode: 45 ==========\n",
      "Sarsa step size in this trial is 10.\n",
      "Q-learning step size in this trial is 10.\n",
      "========== Episode: 46 ==========\n",
      "Sarsa step size in this trial is 8.\n",
      "Q-learning step size in this trial is 8.\n",
      "========== Episode: 47 ==========\n",
      "Sarsa step size in this trial is 8.\n",
      "Q-learning step size in this trial is 8.\n",
      "========== Episode: 48 ==========\n",
      "Sarsa step size in this trial is 8.\n",
      "Q-learning step size in this trial is 8.\n",
      "========== Episode: 49 ==========\n",
      "Sarsa step size in this trial is 8.\n",
      "Q-learning step size in this trial is 8.\n",
      "========== Episode: 50 ==========\n",
      "Sarsa step size in this trial is 8.\n",
      "Q-learning step size in this trial is 8.\n",
      "========== Episode: 51 ==========\n",
      "Sarsa step size in this trial is 8.\n",
      "Q-learning step size in this trial is 8.\n",
      "========== Episode: 52 ==========\n",
      "Sarsa step size in this trial is 8.\n",
      "Q-learning step size in this trial is 8.\n",
      "========== Episode: 53 ==========\n",
      "Sarsa step size in this trial is 8.\n",
      "Q-learning step size in this trial is 8.\n",
      "========== Episode: 54 ==========\n",
      "Sarsa step size in this trial is 8.\n",
      "Q-learning step size in this trial is 8.\n",
      "========== Episode: 55 ==========\n",
      "Sarsa step size in this trial is 8.\n",
      "Q-learning step size in this trial is 8.\n",
      "========== Episode: 56 ==========\n",
      "Sarsa step size in this trial is 8.\n",
      "Q-learning step size in this trial is 8.\n",
      "========== Episode: 57 ==========\n",
      "Sarsa step size in this trial is 8.\n",
      "Q-learning step size in this trial is 8.\n",
      "========== Episode: 58 ==========\n",
      "Sarsa step size in this trial is 8.\n",
      "Q-learning step size in this trial is 8.\n",
      "========== Episode: 59 ==========\n",
      "Sarsa step size in this trial is 8.\n",
      "Q-learning step size in this trial is 8.\n",
      "========== Episode: 60 ==========\n",
      "Sarsa step size in this trial is 8.\n",
      "Q-learning step size in this trial is 8.\n",
      "========== Episode: 61 ==========\n",
      "Sarsa step size in this trial is 8.\n",
      "Q-learning step size in this trial is 8.\n",
      "========== Episode: 62 ==========\n",
      "Sarsa step size in this trial is 8.\n",
      "Q-learning step size in this trial is 8.\n",
      "========== Episode: 63 ==========\n",
      "Sarsa step size in this trial is 8.\n",
      "Q-learning step size in this trial is 8.\n",
      "========== Episode: 64 ==========\n",
      "Sarsa step size in this trial is 8.\n",
      "Q-learning step size in this trial is 8.\n",
      "========== Episode: 65 ==========\n",
      "Sarsa step size in this trial is 8.\n",
      "Q-learning step size in this trial is 8.\n",
      "========== Episode: 66 ==========\n",
      "Sarsa step size in this trial is 8.\n",
      "Q-learning step size in this trial is 8.\n",
      "========== Episode: 67 ==========\n",
      "Sarsa step size in this trial is 8.\n",
      "Q-learning step size in this trial is 8.\n",
      "========== Episode: 68 ==========\n",
      "Sarsa step size in this trial is 8.\n",
      "Q-learning step size in this trial is 8.\n",
      "========== Episode: 69 ==========\n",
      "Sarsa step size in this trial is 8.\n",
      "Q-learning step size in this trial is 8.\n",
      "========== Episode: 70 ==========\n",
      "Sarsa step size in this trial is 8.\n",
      "Q-learning step size in this trial is 8.\n",
      "========== Episode: 71 ==========\n",
      "Sarsa step size in this trial is 8.\n",
      "Q-learning step size in this trial is 8.\n",
      "========== Episode: 72 ==========\n",
      "Sarsa step size in this trial is 8.\n",
      "Q-learning step size in this trial is 8.\n",
      "========== Episode: 73 ==========\n",
      "Sarsa step size in this trial is 8.\n",
      "Q-learning step size in this trial is 8.\n",
      "========== Episode: 74 ==========\n",
      "Sarsa step size in this trial is 8.\n",
      "Q-learning step size in this trial is 8.\n",
      "========== Episode: 75 ==========\n",
      "Sarsa step size in this trial is 8.\n",
      "Q-learning step size in this trial is 8.\n",
      "========== Episode: 76 ==========\n",
      "Sarsa step size in this trial is 8.\n",
      "Q-learning step size in this trial is 8.\n",
      "========== Episode: 77 ==========\n",
      "Sarsa step size in this trial is 8.\n",
      "Q-learning step size in this trial is 8.\n",
      "========== Episode: 78 ==========\n",
      "Sarsa step size in this trial is 8.\n",
      "Q-learning step size in this trial is 8.\n",
      "========== Episode: 79 ==========\n",
      "Sarsa step size in this trial is 8.\n",
      "Q-learning step size in this trial is 8.\n",
      "========== Episode: 80 ==========\n",
      "Sarsa step size in this trial is 8.\n",
      "Q-learning step size in this trial is 8.\n",
      "========== Episode: 81 ==========\n",
      "Sarsa step size in this trial is 8.\n",
      "Q-learning step size in this trial is 8.\n",
      "========== Episode: 82 ==========\n",
      "Sarsa step size in this trial is 8.\n",
      "Q-learning step size in this trial is 8.\n",
      "========== Episode: 83 ==========\n",
      "Sarsa step size in this trial is 8.\n",
      "Q-learning step size in this trial is 8.\n",
      "========== Episode: 84 ==========\n",
      "Sarsa step size in this trial is 8.\n",
      "Q-learning step size in this trial is 8.\n",
      "========== Episode: 85 ==========\n",
      "Sarsa step size in this trial is 8.\n",
      "Q-learning step size in this trial is 8.\n",
      "========== Episode: 86 ==========\n",
      "Sarsa step size in this trial is 8.\n",
      "Q-learning step size in this trial is 8.\n",
      "========== Episode: 87 ==========\n",
      "Sarsa step size in this trial is 8.\n",
      "Q-learning step size in this trial is 8.\n",
      "========== Episode: 88 ==========\n",
      "Sarsa step size in this trial is 8.\n",
      "Q-learning step size in this trial is 8.\n",
      "========== Episode: 89 ==========\n",
      "Sarsa step size in this trial is 8.\n",
      "Q-learning step size in this trial is 8.\n",
      "========== Episode: 90 ==========\n",
      "Sarsa step size in this trial is 8.\n",
      "Q-learning step size in this trial is 8.\n",
      "========== Episode: 91 ==========\n",
      "Sarsa step size in this trial is 8.\n",
      "Q-learning step size in this trial is 8.\n",
      "========== Episode: 92 ==========\n",
      "Sarsa step size in this trial is 8.\n",
      "Q-learning step size in this trial is 8.\n",
      "========== Episode: 93 ==========\n",
      "Sarsa step size in this trial is 8.\n",
      "Q-learning step size in this trial is 8.\n",
      "========== Episode: 94 ==========\n",
      "Sarsa step size in this trial is 8.\n",
      "Q-learning step size in this trial is 8.\n",
      "========== Episode: 95 ==========\n",
      "Sarsa step size in this trial is 8.\n",
      "Q-learning step size in this trial is 8.\n",
      "========== Episode: 96 ==========\n",
      "Sarsa step size in this trial is 8.\n",
      "Q-learning step size in this trial is 8.\n",
      "========== Episode: 97 ==========\n",
      "Sarsa step size in this trial is 8.\n",
      "Q-learning step size in this trial is 8.\n",
      "========== Episode: 98 ==========\n",
      "Sarsa step size in this trial is 8.\n",
      "Q-learning step size in this trial is 8.\n",
      "========== Episode: 99 ==========\n",
      "Sarsa step size in this trial is 8.\n",
      "Q-learning step size in this trial is 8.\n"
     ]
    }
   ],
   "source": [
    "# - define the const\n",
    "\n",
    "eta = 0.1   # learning rate\n",
    "GAMMA = 0.9 # discount rate\n",
    "epsilon = 0.5\n",
    "continue_flg = True\n",
    "episode = 1\n",
    "max_episode = 100\n",
    "directions = {'UP'   :  4,\n",
    "              'RIGHT':  1,\n",
    "              'DOWN' : -4,\n",
    "              'LEFT' : -1\n",
    "             }\n",
    "\n",
    "action2col = { act: col for col,act in enumerate(directions) }\n",
    "i, j = pi_0.shape\n",
    "Q = np.random.rand(i, j) * theta * 0.1\n",
    "initial_Q = Q.copy()\n",
    "Q_sarsa = Q.copy()\n",
    "Q_Qlearning = Q.copy()\n",
    "# get transition V function by time step\n",
    "V_sarsa = np.nanmax(Q, axis=1).reshape(1, -1)\n",
    "V_Qlearning = np.nanmax(Q, axis=1).reshape(1, -1)\n",
    "\n",
    "while continue_flg:\n",
    "    \n",
    "    print(\"========== Episode: {} ==========\".format(episode))\n",
    "    epsilon /= 1.1\n",
    "    # more exploration in earlier experices \n",
    "    \n",
    "    s_a_history_sarsa    , new_Q_sarsa     = play_maze(Q_sarsa    , pi_0, epsilon, eta, GAMMA, update_method=\"sarsa\")\n",
    "    s_a_history_Qlearning, new_Q_Qlearning = play_maze(Q_Qlearning, pi_0, epsilon, eta, GAMMA)\n",
    "    \n",
    "    new_v_sarsa     = np.nanmax(new_Q_sarsa    , axis=1).reshape(1, -1)\n",
    "    new_v_Qlearning = np.nanmax(new_Q_Qlearning, axis=1).reshape(1, -1)\n",
    "    \n",
    "    V_sarsa     = np.append(V_sarsa    , new_v_sarsa, axis=0)\n",
    "    V_Qlearning = np.append(V_Qlearning, new_v_Qlearning, axis=0)\n",
    "    \n",
    "    Q_sarsa     = new_Q_sarsa.copy()\n",
    "    Q_Qlearning = new_Q_Qlearning.copy()\n",
    "    \n",
    "    print(\"Sarsa step size in this trial is {}.\".format(len(s_a_history_sarsa)-1))\n",
    "    print(\"Q-learning step size in this trial is {}.\".format(len(s_a_history_sarsa)-1))\n",
    "    \n",
    "    episode += 1\n",
    "    if episode >= max_episode:\n",
    "        continue_flg = False\n",
    "\n",
    "# - reformat V for visualizing\n",
    "v_16 = np.ones((100,1))\n",
    "V_sarsa = np.concatenate((V_sarsa, v_16), axis=1).reshape(-1, 4, 4)\n",
    "V_Qlearning = np.concatenate((V_Qlearning, v_16), axis=1).reshape(-1, 4, 4)"
   ]
  },
  {
   "cell_type": "code",
   "execution_count": 28,
   "metadata": {
    "ExecuteTime": {
     "end_time": "2019-03-29T02:08:09.034636Z",
     "start_time": "2019-03-29T02:08:09.031043Z"
    }
   },
   "outputs": [],
   "source": [
    "import pprint"
   ]
  },
  {
   "cell_type": "code",
   "execution_count": 29,
   "metadata": {
    "ExecuteTime": {
     "end_time": "2019-03-29T02:08:12.493286Z",
     "start_time": "2019-03-29T02:08:12.488685Z"
    }
   },
   "outputs": [
    {
     "name": "stdout",
     "output_type": "stream",
     "text": [
      "array([[0.04441648, 0.38110073,        nan,        nan],\n",
      "       [       nan, 0.46933848,        nan, 0.02043787],\n",
      "       [0.55615872,        nan,        nan, 0.04974129],\n",
      "       [0.04516881,        nan,        nan,        nan],\n",
      "       [0.04327123, 0.02682085, 0.04359952,        nan],\n",
      "       [0.0924776 ,        nan,        nan, 0.00530643],\n",
      "       [0.64017118, 0.04423951, 0.05179365,        nan],\n",
      "       [       nan,        nan, 0.01956689, 0.04901004],\n",
      "       [0.04333943,        nan, 0.04307404,        nan],\n",
      "       [0.80832949, 0.02721969, 0.03224761,        nan],\n",
      "       [       nan,        nan, 0.05387294, 0.72305547],\n",
      "       [0.01011495,        nan,        nan,        nan],\n",
      "       [       nan,        nan, 0.04323203,        nan],\n",
      "       [       nan, 0.89968623, 0.04818459,        nan],\n",
      "       [       nan, 0.99997051,        nan, 0.09992044]])\n"
     ]
    }
   ],
   "source": [
    "pprint.pprint(Q_Qlearning)"
   ]
  },
  {
   "cell_type": "markdown",
   "metadata": {},
   "source": [
    "# Investigate the differences between q-learning and Sarsa"
   ]
  },
  {
   "cell_type": "code",
   "execution_count": null,
   "metadata": {
    "ExecuteTime": {
     "end_time": "2019-03-12T06:50:03.780573Z",
     "start_time": "2019-03-12T06:50:03.777728Z"
    }
   },
   "outputs": [],
   "source": [
    "from matplotlib.animation import FuncAnimation"
   ]
  },
  {
   "cell_type": "code",
   "execution_count": null,
   "metadata": {
    "ExecuteTime": {
     "end_time": "2019-03-12T06:50:05.323898Z",
     "start_time": "2019-03-12T06:50:04.663641Z"
    }
   },
   "outputs": [],
   "source": [
    "fig, (ax1, ax2, ax3) = plt.subplots(ncols=3, figsize=(18, 5))\n",
    "\n",
    "ax2.set_title(\"Sarsa\",fontsize=20)\n",
    "ax3.set_title(\"Q-Learning\",fontsize=20)\n",
    "for ax in [ax1, ax2, ax3]:\n",
    "    ax.plot([2.5, 3.5], [1.5 , 1.5], color='red', linewidth=3)\n",
    "    ax.plot([1.5, 1.5], [0.5 , 1.5], color='red', linewidth=3)\n",
    "    ax.plot([0.5, 0.5], [1.5 , 3.5], color='red', linewidth=3)\n",
    "    ax.plot([0.5, 1.5], [0.5 , 0.5], color='red', linewidth=3)\n",
    "    ax.plot([1.5, 2.5], [2.5 , 2.5], color='red', linewidth=3)\n",
    "    ax.plot([2.5, 2.5], [1.5 , 2.5], color='red', linewidth=3)\n",
    "    ax.plot([2.5, 2.5], [-0.5, 0.5], color='red', linewidth=3)\n",
    "    ax.text(0, -0.2, 'START', ha='center', fontsize=14)\n",
    "    ax.text(3, 2.8, 'GOAL', ha='center', fontsize=14)\n",
    "\n",
    "    # -- reformat size\n",
    "    ax.set_xlim(-0.5, 3.5)\n",
    "    ax.set_ylim(-0.5, 3.5)\n",
    "    # -- describe the state number\n",
    "    s_num = 0\n",
    "    for j in range(4):\n",
    "        for i in range(4):\n",
    "            ax.text(i, j, 's{}'.format(s_num), size=20, ha='center')\n",
    "            s_num += 1\n",
    "\n",
    "    ax.tick_params(axis='both', which='both', bottom=False, top=False,\n",
    "                    labelbottom=False, right=False, left=False, labelleft=False)\n"
   ]
  },
  {
   "cell_type": "code",
   "execution_count": null,
   "metadata": {
    "ExecuteTime": {
     "end_time": "2019-03-12T06:51:25.293662Z",
     "start_time": "2019-03-12T06:50:07.729965Z"
    }
   },
   "outputs": [],
   "source": [
    "def update(i):\n",
    "    ax1.set_title(\"episode: {}\".format(i+1),fontsize=20)\n",
    "    img1 = ax2.imshow(V_sarsa[i])\n",
    "    img2 = ax3.imshow(V_Qlearning[i])\n",
    "\n",
    "anim = FuncAnimation(fig, update, interval=100 ,frames=len(V_sarsa))\n",
    "anim.save(\"V_transition.mp4\", writer=\"ffmpeg\")"
   ]
  },
  {
   "cell_type": "markdown",
   "metadata": {},
   "source": [
    "## maze with Hole"
   ]
  },
  {
   "cell_type": "code",
   "execution_count": null,
   "metadata": {
    "ExecuteTime": {
     "end_time": "2019-03-12T06:44:34.423766Z",
     "start_time": "2019-03-12T06:44:34.415520Z"
    }
   },
   "outputs": [],
   "source": [
    "def play_maze(Q, pi, epsilon, eta, gamma, update_method=\"q_learning\", hole_flg=False):\n",
    "    # return state_action_history, updated Q function\n",
    "    s = 0\n",
    "    s_a_history = [[0, np.nan]]\n",
    "    # substitute action later\n",
    "    \n",
    "    trial_num  = 0\n",
    "    a_next = get_next_action(s, Q, pi, epsilon)\n",
    "    # selecting action\n",
    "    \n",
    "    while True:\n",
    "        # print(\"current state: {}, next action : {}\".format(s, action))\n",
    "        action = a_next \n",
    "        \n",
    "        trial_num += 1\n",
    "        \n",
    "        s_a_history[-1][1] = action\n",
    "        \n",
    "        s_next = get_s_next(s=s, next_a=action)\n",
    "       \n",
    "        s_a_history.append([s_next, np.nan])\n",
    "        \n",
    "        if s_next == 15:\n",
    "            r = 1\n",
    "            a_next = None\n",
    "        elif s_next == 5 and hole_flg:\n",
    "            r = -0.05\n",
    "            a_next = get_next_action(s_next, Q, pi, epsilon)\n",
    "        else:\n",
    "            r = 0\n",
    "            a_next = get_next_action(s_next, Q, pi, epsilon)\n",
    "        \n",
    "        if update_method == \"sarsa\":\n",
    "            Q = Sarsa(Q, s, action, r, s_next, a_next, eta, gamma)\n",
    "            \n",
    "        elif update_method == \"q_learning\":\n",
    "            Q = update_q_table(Q, s, action, r, s_next, eta, gamma)\n",
    "        \n",
    "        if s_next == 15:\n",
    "            break\n",
    "        else:\n",
    "            s = s_next\n",
    "        \n",
    "    return s_a_history, Q\n"
   ]
  },
  {
   "cell_type": "code",
   "execution_count": null,
   "metadata": {
    "ExecuteTime": {
     "end_time": "2019-03-12T06:46:46.847931Z",
     "start_time": "2019-03-12T06:46:46.705857Z"
    }
   },
   "outputs": [],
   "source": [
    "# - define the const\n",
    "\n",
    "eta = 0.1   # learning rate\n",
    "GAMMA = 0.9 # discount rate\n",
    "epsilon = 0.5\n",
    "continue_flg = True\n",
    "episode = 1\n",
    "max_episode = 100\n",
    "directions = {'UP'   :  4,\n",
    "              'RIGHT':  1,\n",
    "              'DOWN' : -4,\n",
    "              'LEFT' : -1\n",
    "             }\n",
    "\n",
    "action2col = { act: col for col,act in enumerate(directions) }\n",
    "i, j = pi_0.shape\n",
    "Q = np.random.rand(i, j) * theta * 0.1\n",
    "initial_Q = Q.copy()\n",
    "Q_sarsa = Q.copy()\n",
    "Q_Qlearning = Q.copy()\n",
    "V_sarsa = np.nanmax(Q, axis=1).reshape(1, -1)\n",
    "V_Qlearning = np.nanmax(Q, axis=1).reshape(1, -1)\n",
    "\n",
    "while continue_flg:\n",
    "    \n",
    "    print(\"========== Episode: {} ==========\".format(episode))\n",
    "    epsilon /= 1.1\n",
    "    # more exploration in earlier experices \n",
    "    \n",
    "    if episode > 30:\n",
    "        hole_flg = True\n",
    "    else:\n",
    "        hole_flg = False\n",
    "        \n",
    "    s_a_history_sarsa    , new_Q_sarsa     = play_maze(Q_sarsa, pi_0, epsilon, eta, \n",
    "                                                       GAMMA, update_method=\"sarsa\", hole_flg=hole_flg)\n",
    "    s_a_history_Qlearning, new_Q_Qlearning = play_maze(Q_Qlearning, pi_0, epsilon, eta, \n",
    "                                                       GAMMA,update_method=\"q_learning\", hole_flg=hole_flg)\n",
    "\n",
    "    new_v_sarsa     = np.nanmax(new_Q_sarsa    , axis=1).reshape(1, -1)\n",
    "    new_v_Qlearning = np.nanmax(new_Q_Qlearning, axis=1).reshape(1, -1)\n",
    "    \n",
    "    V_sarsa     = np.append(V_sarsa    , new_v_sarsa, axis=0)\n",
    "    V_Qlearning = np.append(V_Qlearning, new_v_Qlearning, axis=0)\n",
    "    \n",
    "    Q_sarsa     = new_Q_sarsa.copy()\n",
    "    Q_Qlearning = new_Q_Qlearning.copy()\n",
    "    \n",
    "    print(\"Sarsa step size in this trial is {}.\".format(len(s_a_history_sarsa)-1))\n",
    "    print(\"Q-learning step size in this trial is {}.\".format(len(s_a_history_sarsa)-1))\n",
    "    \n",
    "    episode += 1\n",
    "    if episode >= max_episode:\n",
    "        continue_flg = False\n",
    "\n",
    "# - reformat V for visualizing\n",
    "v_16 = np.ones((100,1))\n",
    "V_sarsa = np.concatenate((V_sarsa, v_16), axis=1).reshape(-1, 4, 4)\n",
    "V_Qlearning = np.concatenate((V_Qlearning, v_16), axis=1).reshape(-1, 4, 4)"
   ]
  },
  {
   "cell_type": "code",
   "execution_count": null,
   "metadata": {
    "ExecuteTime": {
     "end_time": "2019-03-12T06:46:59.520360Z",
     "start_time": "2019-03-12T06:46:59.037945Z"
    }
   },
   "outputs": [],
   "source": [
    "fig, (ax1, ax2, ax3) = plt.subplots(ncols=3, figsize=(18, 5))\n",
    "\n",
    "ax2.set_title(\"Sarsa\",fontsize=20)\n",
    "ax3.set_title(\"Q-Learning\",fontsize=20)\n",
    "for ax in [ax1, ax2, ax3]:\n",
    "    ax.plot([2.5, 3.5], [1.5 , 1.5], color='red', linewidth=3)\n",
    "    ax.plot([1.5, 1.5], [0.5 , 1.5], color='red', linewidth=3)\n",
    "    ax.plot([0.5, 0.5], [1.5 , 3.5], color='red', linewidth=3)\n",
    "    ax.plot([0.5, 1.5], [0.5 , 0.5], color='red', linewidth=3)\n",
    "    ax.plot([1.5, 2.5], [2.5 , 2.5], color='red', linewidth=3)\n",
    "    ax.plot([2.5, 2.5], [1.5 , 2.5], color='red', linewidth=3)\n",
    "    ax.plot([2.5, 2.5], [-0.5, 0.5], color='red', linewidth=3)\n",
    "    ax.text(1.0, 0.8, 'HOLE', ha='center', fontsize=14)\n",
    "    ax.text(0, -0.2, 'START', ha='center', fontsize=14)\n",
    "    ax.text(3, 2.8, 'GOAL', ha='center', fontsize=14)\n",
    "\n",
    "    # -- reformat size\n",
    "    ax.set_xlim(-0.5, 3.5)\n",
    "    ax.set_ylim(-0.5, 3.5)\n",
    "    # -- describe the state number\n",
    "    s_num = 0\n",
    "    for j in range(4):\n",
    "        for i in range(4):\n",
    "            ax.text(i, j, 's{}'.format(s_num), size=20, ha='center')\n",
    "            s_num += 1\n",
    "\n",
    "    ax.tick_params(axis='both', which='both', bottom=False, top=False,\n",
    "                    labelbottom=False, right=False, left=False, labelleft=False)\n"
   ]
  },
  {
   "cell_type": "code",
   "execution_count": null,
   "metadata": {
    "ExecuteTime": {
     "end_time": "2019-03-12T06:48:16.456692Z",
     "start_time": "2019-03-12T06:47:00.097839Z"
    }
   },
   "outputs": [],
   "source": [
    "anim = FuncAnimation(fig, update, interval=100 ,frames=len(V_sarsa))\n",
    "anim.save(\"V_transition_with_hole.mp4\", writer=\"ffmpeg\")"
   ]
  },
  {
   "cell_type": "code",
   "execution_count": null,
   "metadata": {},
   "outputs": [],
   "source": []
  }
 ],
 "metadata": {
  "kernelspec": {
   "display_name": "Python 3",
   "language": "python",
   "name": "python3"
  },
  "language_info": {
   "codemirror_mode": {
    "name": "ipython",
    "version": 3
   },
   "file_extension": ".py",
   "mimetype": "text/x-python",
   "name": "python",
   "nbconvert_exporter": "python",
   "pygments_lexer": "ipython3",
   "version": "3.6.5"
  },
  "varInspector": {
   "cols": {
    "lenName": 16,
    "lenType": 16,
    "lenVar": 40
   },
   "kernels_config": {
    "python": {
     "delete_cmd_postfix": "",
     "delete_cmd_prefix": "del ",
     "library": "var_list.py",
     "varRefreshCmd": "print(var_dic_list())"
    },
    "r": {
     "delete_cmd_postfix": ") ",
     "delete_cmd_prefix": "rm(",
     "library": "var_list.r",
     "varRefreshCmd": "cat(var_dic_list()) "
    }
   },
   "position": {
    "height": "209px",
    "left": "1136px",
    "right": "20px",
    "top": "120px",
    "width": "284px"
   },
   "types_to_exclude": [
    "module",
    "function",
    "builtin_function_or_method",
    "instance",
    "_Feature"
   ],
   "window_display": false
  }
 },
 "nbformat": 4,
 "nbformat_minor": 2
}
