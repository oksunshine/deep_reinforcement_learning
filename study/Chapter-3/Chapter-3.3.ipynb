{
 "cells": [
  {
   "cell_type": "markdown",
   "metadata": {},
   "source": [
    "# 3.3 CartPoleを離散化してみる"
   ]
  },
  {
   "cell_type": "code",
   "execution_count": 1,
   "metadata": {
    "ExecuteTime": {
     "end_time": "2019-03-06T06:33:47.947536Z",
     "start_time": "2019-03-06T06:33:47.736953Z"
    }
   },
   "outputs": [],
   "source": [
    "# 使用するパッケージの宣言\n",
    "import numpy as np\n",
    "import matplotlib.pyplot as plt\n",
    "%matplotlib inline\n",
    "import gym"
   ]
  },
  {
   "cell_type": "code",
   "execution_count": 2,
   "metadata": {
    "ExecuteTime": {
     "end_time": "2019-03-06T06:33:54.533969Z",
     "start_time": "2019-03-06T06:33:54.530772Z"
    }
   },
   "outputs": [],
   "source": [
    "# 定数の設定\n",
    "ENV = 'CartPole-v0'  # 使用する課題名\n",
    "NUM_DIZITIZED = 6  # 各状態の離散値への分割数"
   ]
  },
  {
   "cell_type": "code",
   "execution_count": 3,
   "metadata": {
    "ExecuteTime": {
     "end_time": "2019-03-06T06:34:02.795832Z",
     "start_time": "2019-03-06T06:34:02.653987Z"
    }
   },
   "outputs": [
    {
     "name": "stderr",
     "output_type": "stream",
     "text": [
      "/Users/shinnosuke.yata/.pyenv/versions/3.6.5/lib/python3.6/site-packages/gym/envs/registration.py:14: PkgResourcesDeprecationWarning: Parameters to load are deprecated.  Call .resolve and .require separately.\n",
      "  result = entry_point.load(False)\n"
     ]
    }
   ],
   "source": [
    "# CartPoleを実行してみる\n",
    "env = gym.make(ENV)  # 実行する課題を設定\n",
    "observation = env.reset()  # 環境の初期化"
   ]
  },
  {
   "cell_type": "code",
   "execution_count": 4,
   "metadata": {
    "ExecuteTime": {
     "end_time": "2019-03-06T06:34:23.226232Z",
     "start_time": "2019-03-06T06:34:23.222246Z"
    }
   },
   "outputs": [],
   "source": [
    "# 離散化の閾値を求める\n",
    "\n",
    "\n",
    "def bins(clip_min, clip_max, num):\n",
    "    '''観測した状態（連続値）を離散値にデジタル変換する閾値を求める'''\n",
    "    return np.linspace(clip_min, clip_max, num + 1)[1:-1]"
   ]
  },
  {
   "cell_type": "code",
   "execution_count": 5,
   "metadata": {
    "ExecuteTime": {
     "end_time": "2019-03-06T06:34:32.202438Z",
     "start_time": "2019-03-06T06:34:32.196025Z"
    }
   },
   "outputs": [
    {
     "data": {
      "text/plain": [
       "array([-2.4, -1.6, -0.8,  0. ,  0.8,  1.6,  2.4])"
      ]
     },
     "execution_count": 5,
     "metadata": {},
     "output_type": "execute_result"
    }
   ],
   "source": [
    "np.linspace(-2.4, 2.4, 6 + 1)"
   ]
  },
  {
   "cell_type": "code",
   "execution_count": 6,
   "metadata": {
    "ExecuteTime": {
     "end_time": "2019-03-06T06:34:39.199593Z",
     "start_time": "2019-03-06T06:34:39.193674Z"
    }
   },
   "outputs": [
    {
     "data": {
      "text/plain": [
       "array([-1.6, -0.8,  0. ,  0.8,  1.6])"
      ]
     },
     "execution_count": 6,
     "metadata": {},
     "output_type": "execute_result"
    }
   ],
   "source": [
    "np.linspace(-2.4, 2.4, 6 + 1)[1:-1]"
   ]
  },
  {
   "cell_type": "code",
   "execution_count": 13,
   "metadata": {
    "ExecuteTime": {
     "end_time": "2019-03-06T07:52:18.263453Z",
     "start_time": "2019-03-06T07:52:18.257982Z"
    }
   },
   "outputs": [],
   "source": [
    "# 状態の４変数を一度に離散的に変換する変数\n",
    "# np.digitize binで設定したグループに振り分けてくれる\n",
    "# ４つの状態を６進数を用いて一つの数字として返している。\n",
    "def digitize_state(observation):\n",
    "    '''観測したobservation状態を、離散値に変換する'''\n",
    "    cart_pos, cart_v, pole_angle, pole_v = observation\n",
    "    digitized = [\n",
    "        np.digitize(cart_pos, bins=bins(-2.4, 2.4, NUM_DIZITIZED)),\n",
    "        np.digitize(cart_v, bins=bins(-3.0, 3.0, NUM_DIZITIZED)),\n",
    "        np.digitize(pole_angle, bins=bins(-0.5, 0.5, NUM_DIZITIZED)),\n",
    "        np.digitize(pole_v, bins=bins(-2.0, 2.0, NUM_DIZITIZED))]\n",
    "    return sum([x * (NUM_DIZITIZED**i) for i, x in enumerate(digitized)])"
   ]
  },
  {
   "cell_type": "code",
   "execution_count": 8,
   "metadata": {
    "ExecuteTime": {
     "end_time": "2019-03-06T06:34:56.747339Z",
     "start_time": "2019-03-06T06:34:56.736335Z"
    }
   },
   "outputs": [
    {
     "data": {
      "text/plain": [
       "561"
      ]
     },
     "execution_count": 8,
     "metadata": {},
     "output_type": "execute_result"
    }
   ],
   "source": [
    "digitize_state(observation)"
   ]
  },
  {
   "cell_type": "code",
   "execution_count": 4,
   "metadata": {
    "ExecuteTime": {
     "end_time": "2019-03-06T07:44:09.662415Z",
     "start_time": "2019-03-06T07:44:09.656696Z"
    }
   },
   "outputs": [
    {
     "data": {
      "text/plain": [
       "array([0.09231308, 0.89671113, 0.0353094 , 0.7881895 , 0.18220635,\n",
       "       0.17492288, 0.78909508, 0.02665684, 0.75094559, 0.28142838,\n",
       "       0.57394552, 0.57680211, 0.50971976, 0.46910702, 0.36789767,\n",
       "       0.33290373, 0.45429423, 0.1184483 , 0.71984519, 0.76985143,\n",
       "       0.81713378, 0.63888163, 0.10513673, 0.7512885 , 0.52636277,\n",
       "       0.66291407, 0.66968214, 0.27186599, 0.65282858, 0.57659624,\n",
       "       0.39240759, 0.40568956, 0.83808909, 0.10426298, 0.84647216,\n",
       "       0.76337688, 0.71643091, 0.98019988, 0.19215284, 0.95153166,\n",
       "       0.76604967, 0.41613741, 0.27719081, 0.46035493, 0.80246013,\n",
       "       0.3393707 , 0.83915624, 0.38564219, 0.52054669, 0.22044536,\n",
       "       0.59095319, 0.94390242, 0.38794812, 0.78257874, 0.91288188,\n",
       "       0.70729895, 0.29308088, 0.91415436, 0.01238249, 0.09311162,\n",
       "       0.72921027, 0.26265334, 0.6806531 , 0.09891163, 0.47130404,\n",
       "       0.67248659, 0.62553112, 0.53283683, 0.67617224, 0.53851198,\n",
       "       0.1780559 , 0.14165572, 0.88312393, 0.57671502, 0.40954614,\n",
       "       0.21372513, 0.2314896 , 0.02929663, 0.76090391, 0.29752554,\n",
       "       0.17194312, 0.72690302, 0.1550748 , 0.29339429, 0.57119334,\n",
       "       0.35386757, 0.36086392, 0.82194991, 0.70484492, 0.59137448,\n",
       "       0.45850709, 0.25569705, 0.02394484, 0.52787031, 0.30600765,\n",
       "       0.19609054, 0.83717512, 0.25179337, 0.78946197, 0.29681479])"
      ]
     },
     "execution_count": 4,
     "metadata": {},
     "output_type": "execute_result"
    }
   ],
   "source": [
    "a = np.random.rand(100)\n",
    "a"
   ]
  },
  {
   "cell_type": "code",
   "execution_count": 10,
   "metadata": {
    "ExecuteTime": {
     "end_time": "2019-03-06T07:45:45.569346Z",
     "start_time": "2019-03-06T07:45:45.564879Z"
    }
   },
   "outputs": [
    {
     "data": {
      "text/plain": [
       "array([0. , 0.1, 0.2, 0.3, 0.4, 0.5, 0.6, 0.7, 0.8, 0.9, 1. ])"
      ]
     },
     "execution_count": 10,
     "metadata": {},
     "output_type": "execute_result"
    }
   ],
   "source": [
    "b = np.linspace(0,1,11)\n",
    "b"
   ]
  },
  {
   "cell_type": "code",
   "execution_count": 12,
   "metadata": {
    "ExecuteTime": {
     "end_time": "2019-03-06T07:46:13.319034Z",
     "start_time": "2019-03-06T07:46:13.307898Z"
    }
   },
   "outputs": [
    {
     "data": {
      "text/plain": [
       "array([ 1,  9,  1,  8,  2,  2,  8,  1,  8,  3,  6,  6,  6,  5,  4,  4,  5,\n",
       "        2,  8,  8,  9,  7,  2,  8,  6,  7,  7,  3,  7,  6,  4,  5,  9,  2,\n",
       "        9,  8,  8, 10,  2, 10,  8,  5,  3,  5,  9,  4,  9,  4,  6,  3,  6,\n",
       "       10,  4,  8, 10,  8,  3, 10,  1,  1,  8,  3,  7,  1,  5,  7,  7,  6,\n",
       "        7,  6,  2,  2,  9,  6,  5,  3,  3,  1,  8,  3,  2,  8,  2,  3,  6,\n",
       "        4,  4,  9,  8,  6,  5,  3,  1,  6,  4,  2,  9,  3,  8,  3])"
      ]
     },
     "execution_count": 12,
     "metadata": {},
     "output_type": "execute_result"
    }
   ],
   "source": [
    "np.digitize(a, bins=b)"
   ]
  },
  {
   "cell_type": "code",
   "execution_count": 14,
   "metadata": {
    "ExecuteTime": {
     "end_time": "2019-03-06T07:56:24.377791Z",
     "start_time": "2019-03-06T07:56:24.372766Z"
    }
   },
   "outputs": [
    {
     "data": {
      "text/plain": [
       "1296"
      ]
     },
     "execution_count": 14,
     "metadata": {},
     "output_type": "execute_result"
    }
   ],
   "source": [
    "6**4"
   ]
  },
  {
   "cell_type": "code",
   "execution_count": null,
   "metadata": {},
   "outputs": [],
   "source": []
  }
 ],
 "metadata": {
  "kernelspec": {
   "display_name": "Python 3",
   "language": "python",
   "name": "python3"
  },
  "language_info": {
   "codemirror_mode": {
    "name": "ipython",
    "version": 3
   },
   "file_extension": ".py",
   "mimetype": "text/x-python",
   "name": "python",
   "nbconvert_exporter": "python",
   "pygments_lexer": "ipython3",
   "version": "3.6.5"
  },
  "varInspector": {
   "cols": {
    "lenName": 16,
    "lenType": 16,
    "lenVar": 40
   },
   "kernels_config": {
    "python": {
     "delete_cmd_postfix": "",
     "delete_cmd_prefix": "del ",
     "library": "var_list.py",
     "varRefreshCmd": "print(var_dic_list())"
    },
    "r": {
     "delete_cmd_postfix": ") ",
     "delete_cmd_prefix": "rm(",
     "library": "var_list.r",
     "varRefreshCmd": "cat(var_dic_list()) "
    }
   },
   "types_to_exclude": [
    "module",
    "function",
    "builtin_function_or_method",
    "instance",
    "_Feature"
   ],
   "window_display": false
  }
 },
 "nbformat": 4,
 "nbformat_minor": 2
}
