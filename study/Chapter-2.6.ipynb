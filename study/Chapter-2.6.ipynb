{
 "cells": [
  {
   "cell_type": "markdown",
   "metadata": {},
   "source": [
    "# Q learning\n",
    "- Sarsaの場合は、更新時に次の行動a(t+1)を求め、更新に使用していた。\n",
    "- Q学習は状態st+1のうち、もっとも大きいものを更新に使用する。\n",
    "- 更新が行動の決定方法に依存しないため、ランダム性が更新式に入らない分、Sarsaよりも学習の収束が早い。\n",
    "- 更新式が変わるだけである。"
   ]
  },
  {
   "cell_type": "code",
   "execution_count": 1,
   "metadata": {
    "ExecuteTime": {
     "end_time": "2019-03-06T00:59:51.390373Z",
     "start_time": "2019-03-06T00:59:51.052505Z"
    }
   },
   "outputs": [],
   "source": [
    "import numpy as np\n",
    "import matplotlib.pyplot as plt\n",
    "%matplotlib inline"
   ]
  },
  {
   "cell_type": "code",
   "execution_count": 2,
   "metadata": {
    "ExecuteTime": {
     "end_time": "2019-03-06T01:00:05.374671Z",
     "start_time": "2019-03-06T01:00:05.171656Z"
    }
   },
   "outputs": [
    {
     "name": "stderr",
     "output_type": "stream",
     "text": [
      "/Users/shinnosuke.yata/.pyenv/versions/3.6.5/lib/python3.6/site-packages/matplotlib/cbook/__init__.py:424: MatplotlibDeprecationWarning: \n",
      "Passing one of 'on', 'true', 'off', 'false' as a boolean is deprecated; use an actual boolean (True/False) instead.\n",
      "  warn_deprecated(\"2.2\", \"Passing one of 'on', 'true', 'off', 'false' as a \"\n"
     ]
    },
    {
     "data": {
      "image/png": "[encoded data removed]",
      "text/plain": [
       "<Figure size 360x360 with 1 Axes>"
      ]
     },
     "metadata": {},
     "output_type": "display_data"
    }
   ],
   "source": [
    "# 初期位置での迷路の様子\n",
    "\n",
    "# 図を描く大きさと、図の変数名を宣言\n",
    "fig = plt.figure(figsize=(5, 5))\n",
    "ax = plt.gca()\n",
    "\n",
    "# 赤い壁を描く\n",
    "plt.plot([1, 1], [0, 1], color='red', linewidth=2)\n",
    "plt.plot([1, 2], [2, 2], color='red', linewidth=2)\n",
    "plt.plot([2, 2], [2, 1], color='red', linewidth=2)\n",
    "plt.plot([2, 3], [1, 1], color='red', linewidth=2)\n",
    "\n",
    "# 状態を示す文字S0～S8を描く\n",
    "plt.text(0.5, 2.5, 'S0', size=14, ha='center')\n",
    "plt.text(1.5, 2.5, 'S1', size=14, ha='center')\n",
    "plt.text(2.5, 2.5, 'S2', size=14, ha='center')\n",
    "plt.text(0.5, 1.5, 'S3', size=14, ha='center')\n",
    "plt.text(1.5, 1.5, 'S4', size=14, ha='center')\n",
    "plt.text(2.5, 1.5, 'S5', size=14, ha='center')\n",
    "plt.text(0.5, 0.5, 'S6', size=14, ha='center')\n",
    "plt.text(1.5, 0.5, 'S7', size=14, ha='center')\n",
    "plt.text(2.5, 0.5, 'S8', size=14, ha='center')\n",
    "plt.text(0.5, 2.3, 'START', ha='center')\n",
    "plt.text(2.5, 0.3, 'GOAL', ha='center')\n",
    "\n",
    "# 描画範囲の設定と目盛りを消す設定\n",
    "ax.set_xlim(0, 3)\n",
    "ax.set_ylim(0, 3)\n",
    "plt.tick_params(axis='both', which='both', bottom='off', top='off',\n",
    "                labelbottom='off', right='off', left='off', labelleft='off')\n",
    "\n",
    "# 現在地S0に緑丸を描画する\n",
    "line, = ax.plot([0.5], [2.5], marker=\"o\", color='g', markersize=60)"
   ]
  },
  {
   "cell_type": "code",
   "execution_count": 3,
   "metadata": {
    "ExecuteTime": {
     "end_time": "2019-03-06T01:01:45.024110Z",
     "start_time": "2019-03-06T01:01:45.018791Z"
    }
   },
   "outputs": [],
   "source": [
    "# 初期の方策を決定するパラメータtheta_0を設定\n",
    "# 方策　エージェントがどのように行動するかを決めたルール\n",
    "# pi_theta(s, a)\n",
    "# 状態sの時に行動aを採用する確率はパラメータthetaで決まる方策piに従う。\n",
    "\n",
    "# 表形式表現　行が状態、列が行動aを示し、値はその行動を採用する確率\n",
    "# 行は状態0～7、列は移動方向で↑、→、↓、←を表す\n",
    "# columns ========> [up    . right , down  , left  ]   # rows\n",
    "theta_0 = np.array([[np.nan, 1     , 1     , np.nan],  # s0\n",
    "                    [np.nan, 1     , np.nan, 1     ],  # s1\n",
    "                    [np.nan, np.nan, 1     , 1     ],  # s2\n",
    "                    [1     , 1     , 1     , np.nan],  # s3\n",
    "                    [np.nan, np.nan, 1     , 1     ],  # s4\n",
    "                    [1     , np.nan, np.nan, np.nan],  # s5\n",
    "                    [1     , np.nan, np.nan, np.nan],  # s6\n",
    "                    [1     , 1     , np.nan, np.nan],  # s7、※s8はゴールなので、方策はなし\n",
    "                    ])"
   ]
  },
  {
   "cell_type": "code",
   "execution_count": 16,
   "metadata": {
    "ExecuteTime": {
     "end_time": "2019-03-06T01:44:53.705919Z",
     "start_time": "2019-03-06T01:44:53.701580Z"
    }
   },
   "outputs": [],
   "source": [
    "# 方策パラメータtheta_0をランダム方策piに変換する関数の定義\n",
    "def simple_convert_into_pi_from_theta(theta):\n",
    "    \n",
    "    i, j = theta.shape\n",
    "    pi = np.zeros((i, j))\n",
    "    for idx in range(i):\n",
    "        pi[idx, :] = theta[idx, :] / np.nansum(theta[idx, :])\n",
    "        \n",
    "    pi = np.nan_to_num(pi)\n",
    "    return pi"
   ]
  },
  {
   "cell_type": "code",
   "execution_count": 17,
   "metadata": {
    "ExecuteTime": {
     "end_time": "2019-03-06T01:44:55.928043Z",
     "start_time": "2019-03-06T01:44:55.924571Z"
    }
   },
   "outputs": [],
   "source": [
    "# 方策を定義\n",
    "pi_0 = simple_convert_into_pi_from_theta(theta_0)"
   ]
  },
  {
   "cell_type": "code",
   "execution_count": 18,
   "metadata": {
    "ExecuteTime": {
     "end_time": "2019-03-06T01:44:57.313775Z",
     "start_time": "2019-03-06T01:44:57.304553Z"
    }
   },
   "outputs": [],
   "source": [
    "# 初期の行動価値関数Qを設定\n",
    "i, j = theta_0.shape\n",
    "Q = np.random.rand(i, j) * theta_0"
   ]
  },
  {
   "cell_type": "code",
   "execution_count": 21,
   "metadata": {
    "ExecuteTime": {
     "end_time": "2019-03-06T02:12:08.030021Z",
     "start_time": "2019-03-06T02:12:08.021945Z"
    }
   },
   "outputs": [],
   "source": [
    "# ε-greedy法を実装\n",
    "\n",
    "def get_action(s, Q, epsilon, pi_0):\n",
    "    direction = [\"UP\", \"RIGHT\", \"DOWN\", \"LEFT\"]\n",
    "    # epsilon-greedy methods\n",
    "    if np.random.rand() < epsilon:\n",
    "        next_action = np.random.choice(direction, p=pi_0[s, :])\n",
    "    else:\n",
    "        next_action = direction[argmax(Q[s, :])]\n",
    "        \n",
    "    if next_action == \"UP\":\n",
    "        action = 0\n",
    "    elif next_action == \"RIGHT\":\n",
    "        action = 1\n",
    "    elif next_action == \"DOWN\":\n",
    "        action = 2\n",
    "    elif next_action == \"LEFT\":\n",
    "        action = 3\n",
    "    \n",
    "    return action\n",
    "\n",
    "def get_s_next(s, a):\n",
    "    \n",
    "    direction = [\"UP\", \"RIGHT\", \"DOWN\", \"LEFT\"]\n",
    "    next_action = direction[a]\n",
    "    \n",
    "    if next_action == \"UP\":\n",
    "        s_next = s - 3\n",
    "    elif next_action == \"RIGHT\":\n",
    "        s_next = s + 1\n",
    "    elif next_action == \"DOWN\":\n",
    "        s_next = s + 3\n",
    "    elif next_action == \"LEFT\":\n",
    "        s_next = s - 1\n",
    "        \n",
    "    return s_next"
   ]
  },
  {
   "cell_type": "code",
   "execution_count": 23,
   "metadata": {
    "ExecuteTime": {
     "end_time": "2019-03-06T02:26:40.157584Z",
     "start_time": "2019-03-06T02:26:40.152997Z"
    }
   },
   "outputs": [],
   "source": [
    "# Q学習による行動価値関数Qの更新\n",
    "\n",
    "def Q_learning(s, a, r, s_next, Q, eta, gamma):\n",
    "    \n",
    "    if s_next == 8:\n",
    "        new_Q[s, a] = Q[s, a] + eta * (r - Q[s, a])\n",
    "    else:\n",
    "        new_Q[s, a] = Q[s, a] + eta * (r + gamma * nanmax(Q[s_next, :]) - Q[s, a])\n",
    "    \n",
    "    return new_Q"
   ]
  },
  {
   "cell_type": "code",
   "execution_count": 10,
   "metadata": {
    "ExecuteTime": {
     "end_time": "2019-03-06T01:04:29.170750Z",
     "start_time": "2019-03-06T01:04:29.167675Z"
    }
   },
   "outputs": [],
   "source": [
    "# Q学習で迷路を解く関数の定義、状態と行動の履歴および更新したQを出力\n",
    "\n",
    "\n",
    "def goal_maze_ret_s_a_Q(Q, epsilon, eta, gamma, pi):\n",
    "    pass"
   ]
  },
  {
   "cell_type": "code",
   "execution_count": 11,
   "metadata": {
    "ExecuteTime": {
     "end_time": "2019-03-06T01:04:46.404150Z",
     "start_time": "2019-03-06T01:04:46.287811Z"
    }
   },
   "outputs": [
    {
     "ename": "NameError",
     "evalue": "name 'Q' is not defined",
     "output_type": "error",
     "traceback": [
      "\u001b[0;31m---------------------------------------------------------------------------\u001b[0m",
      "\u001b[0;31mNameError\u001b[0m                                 Traceback (most recent call last)",
      "\u001b[0;32m<ipython-input-11-3822763aa173>\u001b[0m in \u001b[0;36m<module>\u001b[0;34m\u001b[0m\n\u001b[1;32m      4\u001b[0m \u001b[0mgamma\u001b[0m \u001b[0;34m=\u001b[0m \u001b[0;36m0.9\u001b[0m  \u001b[0;31m# 時間割引率\u001b[0m\u001b[0;34m\u001b[0m\u001b[0m\n\u001b[1;32m      5\u001b[0m \u001b[0mepsilon\u001b[0m \u001b[0;34m=\u001b[0m \u001b[0;36m0.5\u001b[0m  \u001b[0;31m# ε-greedy法の初期値\u001b[0m\u001b[0;34m\u001b[0m\u001b[0m\n\u001b[0;32m----> 6\u001b[0;31m \u001b[0mv\u001b[0m \u001b[0;34m=\u001b[0m \u001b[0mnp\u001b[0m\u001b[0;34m.\u001b[0m\u001b[0mnanmax\u001b[0m\u001b[0;34m(\u001b[0m\u001b[0mQ\u001b[0m\u001b[0;34m,\u001b[0m \u001b[0maxis\u001b[0m\u001b[0;34m=\u001b[0m\u001b[0;36m1\u001b[0m\u001b[0;34m)\u001b[0m  \u001b[0;31m# 状態ごとに価値の最大値を求める\u001b[0m\u001b[0;34m\u001b[0m\u001b[0m\n\u001b[0m\u001b[1;32m      7\u001b[0m \u001b[0mis_continue\u001b[0m \u001b[0;34m=\u001b[0m \u001b[0;32mTrue\u001b[0m\u001b[0;34m\u001b[0m\u001b[0m\n\u001b[1;32m      8\u001b[0m \u001b[0mepisode\u001b[0m \u001b[0;34m=\u001b[0m \u001b[0;36m1\u001b[0m\u001b[0;34m\u001b[0m\u001b[0m\n",
      "\u001b[0;31mNameError\u001b[0m: name 'Q' is not defined"
     ]
    }
   ],
   "source": [
    "# Q学習で迷路を解く\n",
    "\n",
    "eta = 0.1  # 学習率\n",
    "gamma = 0.9  # 時間割引率\n",
    "epsilon = 0.5  # ε-greedy法の初期値\n",
    "v = np.nanmax(Q, axis=1)  # 状態ごとに価値の最大値を求める\n",
    "is_continue = True\n",
    "episode = 1\n"
   ]
  },
  {
   "cell_type": "code",
   "execution_count": null,
   "metadata": {},
   "outputs": [],
   "source": [
    "# 状態価値の変化を可視化します\n",
    "# 参考URL http://louistiao.me/posts/notebooks/embedding-matplotlib-animations-in-jupyter-notebooks/\n",
    "from matplotlib import animation\n",
    "from IPython.display import HTML\n",
    "import matplotlib.cm as cm  # color map\n",
    "\n",
    "\n",
    "def init():\n",
    "    # 背景画像の初期化\n",
    "    line.set_data([], [])\n",
    "    return (line,)\n",
    "\n",
    "\n",
    "def animate(i):\n",
    "    # フレームごとの描画内容\n",
    "    # 各マスに状態価値の大きさに基づく色付きの四角を描画\n",
    "    line, = ax.plot([0.5], [2.5], marker=\"s\",\n",
    "                    color=cm.jet(V[i][0]), markersize=85)  # S0\n",
    "    line, = ax.plot([1.5], [2.5], marker=\"s\",\n",
    "                    color=cm.jet(V[i][1]), markersize=85)  # S1\n",
    "    line, = ax.plot([2.5], [2.5], marker=\"s\",\n",
    "                    color=cm.jet(V[i][2]), markersize=85)  # S2\n",
    "    line, = ax.plot([0.5], [1.5], marker=\"s\",\n",
    "                    color=cm.jet(V[i][3]), markersize=85)  # S3\n",
    "    line, = ax.plot([1.5], [1.5], marker=\"s\",\n",
    "                    color=cm.jet(V[i][4]), markersize=85)  # S4\n",
    "    line, = ax.plot([2.5], [1.5], marker=\"s\",\n",
    "                    color=cm.jet(V[i][5]), markersize=85)  # S5\n",
    "    line, = ax.plot([0.5], [0.5], marker=\"s\",\n",
    "                    color=cm.jet(V[i][6]), markersize=85)  # S6\n",
    "    line, = ax.plot([1.5], [0.5], marker=\"s\",\n",
    "                    color=cm.jet(V[i][7]), markersize=85)  # S7\n",
    "    line, = ax.plot([2.5], [0.5], marker=\"s\",\n",
    "                    color=cm.jet(1.0), markersize=85)  # S8\n",
    "    return (line,)\n",
    "\n",
    "\n",
    "#　初期化関数とフレームごとの描画関数を用いて動画を作成\n",
    "anim = animation.FuncAnimation(\n",
    "    fig, animate, init_func=init, frames=len(V), interval=200, repeat=False)\n",
    "\n",
    "HTML(anim.to_jshtml())"
   ]
  }
 ],
 "metadata": {
  "kernelspec": {
   "display_name": "Python 3",
   "language": "python",
   "name": "python3"
  },
  "language_info": {
   "codemirror_mode": {
    "name": "ipython",
    "version": 3
   },
   "file_extension": ".py",
   "mimetype": "text/x-python",
   "name": "python",
   "nbconvert_exporter": "python",
   "pygments_lexer": "ipython3",
   "version": "3.6.5"
  },
  "varInspector": {
   "cols": {
    "lenName": 16,
    "lenType": 16,
    "lenVar": 40
   },
   "kernels_config": {
    "python": {
     "delete_cmd_postfix": "",
     "delete_cmd_prefix": "del ",
     "library": "var_list.py",
     "varRefreshCmd": "print(var_dic_list())"
    },
    "r": {
     "delete_cmd_postfix": ") ",
     "delete_cmd_prefix": "rm(",
     "library": "var_list.r",
     "varRefreshCmd": "cat(var_dic_list()) "
    }
   },
   "types_to_exclude": [
    "module",
    "function",
    "builtin_function_or_method",
    "instance",
    "_Feature"
   ],
   "window_display": false
  }
 },
 "nbformat": 4,
 "nbformat_minor": 2
}
